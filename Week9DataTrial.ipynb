{
 "cells": [
  {
   "cell_type": "markdown",
   "metadata": {},
   "source": [
    "# HRSA Maternal & Child Health Data"
   ]
  },
  {
   "cell_type": "markdown",
   "metadata": {},
   "source": [
    "## Importing Packages"
   ]
  },
  {
   "cell_type": "code",
   "execution_count": 1,
   "metadata": {},
   "outputs": [],
   "source": [
    "import numpy as np\n",
    "from scipy import stats\n",
    "import pandas as pd "
   ]
  },
  {
   "cell_type": "code",
   "execution_count": 2,
   "metadata": {},
   "outputs": [],
   "source": [
    "df = pd.read_csv('HRSA 20202022 5 states.csv')"
   ]
  },
  {
   "cell_type": "markdown",
   "metadata": {},
   "source": [
    "## Checking data"
   ]
  },
  {
   "cell_type": "markdown",
   "metadata": {},
   "source": [
    "### Adjustments to file made becuase headers did not convert from the Excel file to CSV file correctly."
   ]
  },
  {
   "cell_type": "code",
   "execution_count": 3,
   "metadata": {},
   "outputs": [
    {
     "data": {
      "text/plain": [
       "(419, 32)"
      ]
     },
     "execution_count": 3,
     "metadata": {},
     "output_type": "execute_result"
    }
   ],
   "source": [
    "df.shape"
   ]
  },
  {
   "cell_type": "code",
   "execution_count": 4,
   "metadata": {},
   "outputs": [],
   "source": [
    "df = df.drop(df.columns[13:31], axis=1)"
   ]
  },
  {
   "cell_type": "code",
   "execution_count": 5,
   "metadata": {},
   "outputs": [
    {
     "data": {
      "application/vnd.microsoft.datawrangler.viewer.v0+json": {
       "columns": [
        {
         "name": "index",
         "rawType": "int64",
         "type": "integer"
        },
        {
         "name": "Filtered By: State = 'District of Columbia' OR State = 'New Jersey' OR State = 'Puerto Rico' OR State = 'New York' OR State = 'Texas'",
         "rawType": "object",
         "type": "unknown"
        },
        {
         "name": "Unnamed: 1",
         "rawType": "object",
         "type": "unknown"
        },
        {
         "name": "Unnamed: 2",
         "rawType": "object",
         "type": "unknown"
        },
        {
         "name": "Unnamed: 3",
         "rawType": "object",
         "type": "unknown"
        },
        {
         "name": "Unnamed: 4",
         "rawType": "object",
         "type": "unknown"
        },
        {
         "name": "Unnamed: 5",
         "rawType": "object",
         "type": "unknown"
        },
        {
         "name": "Unnamed: 6",
         "rawType": "object",
         "type": "unknown"
        },
        {
         "name": "Unnamed: 7",
         "rawType": "object",
         "type": "unknown"
        },
        {
         "name": "Unnamed: 8",
         "rawType": "object",
         "type": "unknown"
        },
        {
         "name": "Unnamed: 9",
         "rawType": "object",
         "type": "unknown"
        },
        {
         "name": "Unnamed: 10",
         "rawType": "object",
         "type": "unknown"
        },
        {
         "name": "Unnamed: 11",
         "rawType": "object",
         "type": "unknown"
        },
        {
         "name": "Unnamed: 12",
         "rawType": "object",
         "type": "unknown"
        },
        {
         "name": "Unnamed: 31",
         "rawType": "float64",
         "type": "float"
        }
       ],
       "conversionMethod": "pd.DataFrame",
       "ref": "ab6c39ab-f6cc-4796-b0e5-9f7ffe0549d8",
       "rows": [
        [
         "0",
         null,
         null,
         null,
         null,
         null,
         null,
         null,
         null,
         null,
         null,
         null,
         null,
         null,
         null
        ],
        [
         "1",
         null,
         null,
         null,
         null,
         null,
         null,
         null,
         null,
         null,
         null,
         null,
         null,
         null,
         null
        ],
        [
         "2",
         "County FIPS Code",
         "HRSA Region",
         "State",
         "County",
         "Hospitals with Obstetric Care (#)",
         "OB-GYN Provider Rate (per 100,000)",
         "Infant Mortality Rate (per 1,000) 2020-2022",
         "Low Birth Weight (%) 2020-2022",
         "Preterm Births (%) 2020-2022",
         "Prenatal Care in the 1st Trimester (%) 2020-2022",
         "Population Density - Women 15-44 Years of Age",
         "NCHS Urban-Rural Classification",
         "NCHS Urban-Rural Code",
         null
        ],
        [
         "3",
         "11001",
         "3",
         "District of Columbia",
         "District of Columbia",
         "4",
         "60",
         "5.3",
         "9.6",
         "10",
         "72",
         "2881.6",
         "Large central metro",
         "1",
         null
        ],
        [
         "4",
         "34001",
         "2",
         "New Jersey",
         "Atlantic County",
         "1",
         "13.3",
         "5.8",
         "8.4",
         "9.6",
         "75.7",
         "87.4",
         "Medium metro",
         "3",
         null
        ]
       ],
       "shape": {
        "columns": 14,
        "rows": 5
       }
      },
      "text/html": [
       "<div>\n",
       "<style scoped>\n",
       "    .dataframe tbody tr th:only-of-type {\n",
       "        vertical-align: middle;\n",
       "    }\n",
       "\n",
       "    .dataframe tbody tr th {\n",
       "        vertical-align: top;\n",
       "    }\n",
       "\n",
       "    .dataframe thead th {\n",
       "        text-align: right;\n",
       "    }\n",
       "</style>\n",
       "<table border=\"1\" class=\"dataframe\">\n",
       "  <thead>\n",
       "    <tr style=\"text-align: right;\">\n",
       "      <th></th>\n",
       "      <th>Filtered By: State = 'District of Columbia' OR State = 'New Jersey' OR State = 'Puerto Rico' OR State = 'New York' OR State = 'Texas'</th>\n",
       "      <th>Unnamed: 1</th>\n",
       "      <th>Unnamed: 2</th>\n",
       "      <th>Unnamed: 3</th>\n",
       "      <th>Unnamed: 4</th>\n",
       "      <th>Unnamed: 5</th>\n",
       "      <th>Unnamed: 6</th>\n",
       "      <th>Unnamed: 7</th>\n",
       "      <th>Unnamed: 8</th>\n",
       "      <th>Unnamed: 9</th>\n",
       "      <th>Unnamed: 10</th>\n",
       "      <th>Unnamed: 11</th>\n",
       "      <th>Unnamed: 12</th>\n",
       "      <th>Unnamed: 31</th>\n",
       "    </tr>\n",
       "  </thead>\n",
       "  <tbody>\n",
       "    <tr>\n",
       "      <th>0</th>\n",
       "      <td>NaN</td>\n",
       "      <td>NaN</td>\n",
       "      <td>NaN</td>\n",
       "      <td>NaN</td>\n",
       "      <td>NaN</td>\n",
       "      <td>NaN</td>\n",
       "      <td>NaN</td>\n",
       "      <td>NaN</td>\n",
       "      <td>NaN</td>\n",
       "      <td>NaN</td>\n",
       "      <td>NaN</td>\n",
       "      <td>NaN</td>\n",
       "      <td>NaN</td>\n",
       "      <td>NaN</td>\n",
       "    </tr>\n",
       "    <tr>\n",
       "      <th>1</th>\n",
       "      <td>NaN</td>\n",
       "      <td>NaN</td>\n",
       "      <td>NaN</td>\n",
       "      <td>NaN</td>\n",
       "      <td>NaN</td>\n",
       "      <td>NaN</td>\n",
       "      <td>NaN</td>\n",
       "      <td>NaN</td>\n",
       "      <td>NaN</td>\n",
       "      <td>NaN</td>\n",
       "      <td>NaN</td>\n",
       "      <td>NaN</td>\n",
       "      <td>NaN</td>\n",
       "      <td>NaN</td>\n",
       "    </tr>\n",
       "    <tr>\n",
       "      <th>2</th>\n",
       "      <td>County FIPS Code</td>\n",
       "      <td>HRSA Region</td>\n",
       "      <td>State</td>\n",
       "      <td>County</td>\n",
       "      <td>Hospitals with Obstetric Care (#)</td>\n",
       "      <td>OB-GYN Provider Rate (per 100,000)</td>\n",
       "      <td>Infant Mortality Rate (per 1,000) 2020-2022</td>\n",
       "      <td>Low Birth Weight (%) 2020-2022</td>\n",
       "      <td>Preterm Births (%) 2020-2022</td>\n",
       "      <td>Prenatal Care in the 1st Trimester (%) 2020-2022</td>\n",
       "      <td>Population Density - Women 15-44 Years of Age</td>\n",
       "      <td>NCHS Urban-Rural Classification</td>\n",
       "      <td>NCHS Urban-Rural Code</td>\n",
       "      <td>NaN</td>\n",
       "    </tr>\n",
       "    <tr>\n",
       "      <th>3</th>\n",
       "      <td>11001</td>\n",
       "      <td>3</td>\n",
       "      <td>District of Columbia</td>\n",
       "      <td>District of Columbia</td>\n",
       "      <td>4</td>\n",
       "      <td>60</td>\n",
       "      <td>5.3</td>\n",
       "      <td>9.6</td>\n",
       "      <td>10</td>\n",
       "      <td>72</td>\n",
       "      <td>2881.6</td>\n",
       "      <td>Large central metro</td>\n",
       "      <td>1</td>\n",
       "      <td>NaN</td>\n",
       "    </tr>\n",
       "    <tr>\n",
       "      <th>4</th>\n",
       "      <td>34001</td>\n",
       "      <td>2</td>\n",
       "      <td>New Jersey</td>\n",
       "      <td>Atlantic County</td>\n",
       "      <td>1</td>\n",
       "      <td>13.3</td>\n",
       "      <td>5.8</td>\n",
       "      <td>8.4</td>\n",
       "      <td>9.6</td>\n",
       "      <td>75.7</td>\n",
       "      <td>87.4</td>\n",
       "      <td>Medium metro</td>\n",
       "      <td>3</td>\n",
       "      <td>NaN</td>\n",
       "    </tr>\n",
       "  </tbody>\n",
       "</table>\n",
       "</div>"
      ],
      "text/plain": [
       "  Filtered By: State = 'District of Columbia' OR State = 'New Jersey' OR State = 'Puerto Rico' OR State = 'New York' OR State = 'Texas'  \\\n",
       "0                                                NaN                                                                                      \n",
       "1                                                NaN                                                                                      \n",
       "2                                   County FIPS Code                                                                                      \n",
       "3                                              11001                                                                                      \n",
       "4                                              34001                                                                                      \n",
       "\n",
       "    Unnamed: 1            Unnamed: 2            Unnamed: 3  \\\n",
       "0          NaN                   NaN                   NaN   \n",
       "1          NaN                   NaN                   NaN   \n",
       "2  HRSA Region                 State                County   \n",
       "3            3  District of Columbia  District of Columbia   \n",
       "4            2            New Jersey       Atlantic County   \n",
       "\n",
       "                          Unnamed: 4                          Unnamed: 5  \\\n",
       "0                                NaN                                 NaN   \n",
       "1                                NaN                                 NaN   \n",
       "2  Hospitals with Obstetric Care (#)  OB-GYN Provider Rate (per 100,000)   \n",
       "3                                  4                                  60   \n",
       "4                                  1                                13.3   \n",
       "\n",
       "                                    Unnamed: 6  \\\n",
       "0                                          NaN   \n",
       "1                                          NaN   \n",
       "2  Infant Mortality Rate (per 1,000) 2020-2022   \n",
       "3                                          5.3   \n",
       "4                                          5.8   \n",
       "\n",
       "                       Unnamed: 7                    Unnamed: 8  \\\n",
       "0                             NaN                           NaN   \n",
       "1                             NaN                           NaN   \n",
       "2  Low Birth Weight (%) 2020-2022  Preterm Births (%) 2020-2022   \n",
       "3                             9.6                            10   \n",
       "4                             8.4                           9.6   \n",
       "\n",
       "                                         Unnamed: 9  \\\n",
       "0                                               NaN   \n",
       "1                                               NaN   \n",
       "2  Prenatal Care in the 1st Trimester (%) 2020-2022   \n",
       "3                                                72   \n",
       "4                                              75.7   \n",
       "\n",
       "                                     Unnamed: 10  \\\n",
       "0                                            NaN   \n",
       "1                                            NaN   \n",
       "2  Population Density - Women 15-44 Years of Age   \n",
       "3                                         2881.6   \n",
       "4                                           87.4   \n",
       "\n",
       "                       Unnamed: 11            Unnamed: 12  Unnamed: 31  \n",
       "0                              NaN                    NaN          NaN  \n",
       "1                              NaN                    NaN          NaN  \n",
       "2  NCHS Urban-Rural Classification  NCHS Urban-Rural Code          NaN  \n",
       "3              Large central metro                      1          NaN  \n",
       "4                     Medium metro                      3          NaN  "
      ]
     },
     "execution_count": 5,
     "metadata": {},
     "output_type": "execute_result"
    }
   ],
   "source": [
    "df.head()"
   ]
  },
  {
   "cell_type": "code",
   "execution_count": 6,
   "metadata": {},
   "outputs": [],
   "source": [
    "#remove last column \n",
    "df = df.iloc[:, :-1]"
   ]
  },
  {
   "cell_type": "code",
   "execution_count": 7,
   "metadata": {},
   "outputs": [
    {
     "data": {
      "application/vnd.microsoft.datawrangler.viewer.v0+json": {
       "columns": [
        {
         "name": "index",
         "rawType": "int64",
         "type": "integer"
        },
        {
         "name": "Filtered By: State = 'District of Columbia' OR State = 'New Jersey' OR State = 'Puerto Rico' OR State = 'New York' OR State = 'Texas'",
         "rawType": "object",
         "type": "unknown"
        },
        {
         "name": "Unnamed: 1",
         "rawType": "object",
         "type": "unknown"
        },
        {
         "name": "Unnamed: 2",
         "rawType": "object",
         "type": "unknown"
        },
        {
         "name": "Unnamed: 3",
         "rawType": "object",
         "type": "unknown"
        },
        {
         "name": "Unnamed: 4",
         "rawType": "object",
         "type": "unknown"
        },
        {
         "name": "Unnamed: 5",
         "rawType": "object",
         "type": "unknown"
        },
        {
         "name": "Unnamed: 6",
         "rawType": "object",
         "type": "unknown"
        },
        {
         "name": "Unnamed: 7",
         "rawType": "object",
         "type": "unknown"
        },
        {
         "name": "Unnamed: 8",
         "rawType": "object",
         "type": "unknown"
        },
        {
         "name": "Unnamed: 9",
         "rawType": "object",
         "type": "unknown"
        },
        {
         "name": "Unnamed: 10",
         "rawType": "object",
         "type": "unknown"
        },
        {
         "name": "Unnamed: 11",
         "rawType": "object",
         "type": "unknown"
        },
        {
         "name": "Unnamed: 12",
         "rawType": "object",
         "type": "unknown"
        }
       ],
       "conversionMethod": "pd.DataFrame",
       "ref": "20137f9c-1625-4a53-b9ad-796bf8b681a2",
       "rows": [
        [
         "0",
         null,
         null,
         null,
         null,
         null,
         null,
         null,
         null,
         null,
         null,
         null,
         null,
         null
        ],
        [
         "1",
         null,
         null,
         null,
         null,
         null,
         null,
         null,
         null,
         null,
         null,
         null,
         null,
         null
        ],
        [
         "2",
         "County FIPS Code",
         "HRSA Region",
         "State",
         "County",
         "Hospitals with Obstetric Care (#)",
         "OB-GYN Provider Rate (per 100,000)",
         "Infant Mortality Rate (per 1,000) 2020-2022",
         "Low Birth Weight (%) 2020-2022",
         "Preterm Births (%) 2020-2022",
         "Prenatal Care in the 1st Trimester (%) 2020-2022",
         "Population Density - Women 15-44 Years of Age",
         "NCHS Urban-Rural Classification",
         "NCHS Urban-Rural Code"
        ],
        [
         "3",
         "11001",
         "3",
         "District of Columbia",
         "District of Columbia",
         "4",
         "60",
         "5.3",
         "9.6",
         "10",
         "72",
         "2881.6",
         "Large central metro",
         "1"
        ],
        [
         "4",
         "34001",
         "2",
         "New Jersey",
         "Atlantic County",
         "1",
         "13.3",
         "5.8",
         "8.4",
         "9.6",
         "75.7",
         "87.4",
         "Medium metro",
         "3"
        ]
       ],
       "shape": {
        "columns": 13,
        "rows": 5
       }
      },
      "text/html": [
       "<div>\n",
       "<style scoped>\n",
       "    .dataframe tbody tr th:only-of-type {\n",
       "        vertical-align: middle;\n",
       "    }\n",
       "\n",
       "    .dataframe tbody tr th {\n",
       "        vertical-align: top;\n",
       "    }\n",
       "\n",
       "    .dataframe thead th {\n",
       "        text-align: right;\n",
       "    }\n",
       "</style>\n",
       "<table border=\"1\" class=\"dataframe\">\n",
       "  <thead>\n",
       "    <tr style=\"text-align: right;\">\n",
       "      <th></th>\n",
       "      <th>Filtered By: State = 'District of Columbia' OR State = 'New Jersey' OR State = 'Puerto Rico' OR State = 'New York' OR State = 'Texas'</th>\n",
       "      <th>Unnamed: 1</th>\n",
       "      <th>Unnamed: 2</th>\n",
       "      <th>Unnamed: 3</th>\n",
       "      <th>Unnamed: 4</th>\n",
       "      <th>Unnamed: 5</th>\n",
       "      <th>Unnamed: 6</th>\n",
       "      <th>Unnamed: 7</th>\n",
       "      <th>Unnamed: 8</th>\n",
       "      <th>Unnamed: 9</th>\n",
       "      <th>Unnamed: 10</th>\n",
       "      <th>Unnamed: 11</th>\n",
       "      <th>Unnamed: 12</th>\n",
       "    </tr>\n",
       "  </thead>\n",
       "  <tbody>\n",
       "    <tr>\n",
       "      <th>0</th>\n",
       "      <td>NaN</td>\n",
       "      <td>NaN</td>\n",
       "      <td>NaN</td>\n",
       "      <td>NaN</td>\n",
       "      <td>NaN</td>\n",
       "      <td>NaN</td>\n",
       "      <td>NaN</td>\n",
       "      <td>NaN</td>\n",
       "      <td>NaN</td>\n",
       "      <td>NaN</td>\n",
       "      <td>NaN</td>\n",
       "      <td>NaN</td>\n",
       "      <td>NaN</td>\n",
       "    </tr>\n",
       "    <tr>\n",
       "      <th>1</th>\n",
       "      <td>NaN</td>\n",
       "      <td>NaN</td>\n",
       "      <td>NaN</td>\n",
       "      <td>NaN</td>\n",
       "      <td>NaN</td>\n",
       "      <td>NaN</td>\n",
       "      <td>NaN</td>\n",
       "      <td>NaN</td>\n",
       "      <td>NaN</td>\n",
       "      <td>NaN</td>\n",
       "      <td>NaN</td>\n",
       "      <td>NaN</td>\n",
       "      <td>NaN</td>\n",
       "    </tr>\n",
       "    <tr>\n",
       "      <th>2</th>\n",
       "      <td>County FIPS Code</td>\n",
       "      <td>HRSA Region</td>\n",
       "      <td>State</td>\n",
       "      <td>County</td>\n",
       "      <td>Hospitals with Obstetric Care (#)</td>\n",
       "      <td>OB-GYN Provider Rate (per 100,000)</td>\n",
       "      <td>Infant Mortality Rate (per 1,000) 2020-2022</td>\n",
       "      <td>Low Birth Weight (%) 2020-2022</td>\n",
       "      <td>Preterm Births (%) 2020-2022</td>\n",
       "      <td>Prenatal Care in the 1st Trimester (%) 2020-2022</td>\n",
       "      <td>Population Density - Women 15-44 Years of Age</td>\n",
       "      <td>NCHS Urban-Rural Classification</td>\n",
       "      <td>NCHS Urban-Rural Code</td>\n",
       "    </tr>\n",
       "    <tr>\n",
       "      <th>3</th>\n",
       "      <td>11001</td>\n",
       "      <td>3</td>\n",
       "      <td>District of Columbia</td>\n",
       "      <td>District of Columbia</td>\n",
       "      <td>4</td>\n",
       "      <td>60</td>\n",
       "      <td>5.3</td>\n",
       "      <td>9.6</td>\n",
       "      <td>10</td>\n",
       "      <td>72</td>\n",
       "      <td>2881.6</td>\n",
       "      <td>Large central metro</td>\n",
       "      <td>1</td>\n",
       "    </tr>\n",
       "    <tr>\n",
       "      <th>4</th>\n",
       "      <td>34001</td>\n",
       "      <td>2</td>\n",
       "      <td>New Jersey</td>\n",
       "      <td>Atlantic County</td>\n",
       "      <td>1</td>\n",
       "      <td>13.3</td>\n",
       "      <td>5.8</td>\n",
       "      <td>8.4</td>\n",
       "      <td>9.6</td>\n",
       "      <td>75.7</td>\n",
       "      <td>87.4</td>\n",
       "      <td>Medium metro</td>\n",
       "      <td>3</td>\n",
       "    </tr>\n",
       "  </tbody>\n",
       "</table>\n",
       "</div>"
      ],
      "text/plain": [
       "  Filtered By: State = 'District of Columbia' OR State = 'New Jersey' OR State = 'Puerto Rico' OR State = 'New York' OR State = 'Texas'  \\\n",
       "0                                                NaN                                                                                      \n",
       "1                                                NaN                                                                                      \n",
       "2                                   County FIPS Code                                                                                      \n",
       "3                                              11001                                                                                      \n",
       "4                                              34001                                                                                      \n",
       "\n",
       "    Unnamed: 1            Unnamed: 2            Unnamed: 3  \\\n",
       "0          NaN                   NaN                   NaN   \n",
       "1          NaN                   NaN                   NaN   \n",
       "2  HRSA Region                 State                County   \n",
       "3            3  District of Columbia  District of Columbia   \n",
       "4            2            New Jersey       Atlantic County   \n",
       "\n",
       "                          Unnamed: 4                          Unnamed: 5  \\\n",
       "0                                NaN                                 NaN   \n",
       "1                                NaN                                 NaN   \n",
       "2  Hospitals with Obstetric Care (#)  OB-GYN Provider Rate (per 100,000)   \n",
       "3                                  4                                  60   \n",
       "4                                  1                                13.3   \n",
       "\n",
       "                                    Unnamed: 6  \\\n",
       "0                                          NaN   \n",
       "1                                          NaN   \n",
       "2  Infant Mortality Rate (per 1,000) 2020-2022   \n",
       "3                                          5.3   \n",
       "4                                          5.8   \n",
       "\n",
       "                       Unnamed: 7                    Unnamed: 8  \\\n",
       "0                             NaN                           NaN   \n",
       "1                             NaN                           NaN   \n",
       "2  Low Birth Weight (%) 2020-2022  Preterm Births (%) 2020-2022   \n",
       "3                             9.6                            10   \n",
       "4                             8.4                           9.6   \n",
       "\n",
       "                                         Unnamed: 9  \\\n",
       "0                                               NaN   \n",
       "1                                               NaN   \n",
       "2  Prenatal Care in the 1st Trimester (%) 2020-2022   \n",
       "3                                                72   \n",
       "4                                              75.7   \n",
       "\n",
       "                                     Unnamed: 10  \\\n",
       "0                                            NaN   \n",
       "1                                            NaN   \n",
       "2  Population Density - Women 15-44 Years of Age   \n",
       "3                                         2881.6   \n",
       "4                                           87.4   \n",
       "\n",
       "                       Unnamed: 11            Unnamed: 12  \n",
       "0                              NaN                    NaN  \n",
       "1                              NaN                    NaN  \n",
       "2  NCHS Urban-Rural Classification  NCHS Urban-Rural Code  \n",
       "3              Large central metro                      1  \n",
       "4                     Medium metro                      3  "
      ]
     },
     "execution_count": 7,
     "metadata": {},
     "output_type": "execute_result"
    }
   ],
   "source": [
    "df.head()"
   ]
  },
  {
   "cell_type": "code",
   "execution_count": 9,
   "metadata": {},
   "outputs": [
    {
     "data": {
      "application/vnd.microsoft.datawrangler.viewer.v0+json": {
       "columns": [
        {
         "name": "index",
         "rawType": "int64",
         "type": "integer"
        },
        {
         "name": "County FIPS Code",
         "rawType": "object",
         "type": "string"
        },
        {
         "name": "HRSA Region",
         "rawType": "object",
         "type": "string"
        },
        {
         "name": "State",
         "rawType": "object",
         "type": "string"
        },
        {
         "name": "County",
         "rawType": "object",
         "type": "string"
        },
        {
         "name": "Hospitals with Obstetric Care (#)",
         "rawType": "object",
         "type": "string"
        },
        {
         "name": "OB-GYN Provider Rate (per 100,000)",
         "rawType": "object",
         "type": "string"
        },
        {
         "name": "Infant Mortality Rate (per 1,000) 2020-2022",
         "rawType": "object",
         "type": "string"
        },
        {
         "name": "Low Birth Weight (%) 2020-2022",
         "rawType": "object",
         "type": "string"
        },
        {
         "name": "Preterm Births (%) 2020-2022",
         "rawType": "object",
         "type": "string"
        },
        {
         "name": "Prenatal Care in the 1st Trimester (%) 2020-2022",
         "rawType": "object",
         "type": "string"
        },
        {
         "name": "Population Density - Women 15-44 Years of Age",
         "rawType": "object",
         "type": "string"
        },
        {
         "name": "NCHS Urban-Rural Classification",
         "rawType": "object",
         "type": "string"
        },
        {
         "name": "NCHS Urban-Rural Code",
         "rawType": "object",
         "type": "string"
        }
       ],
       "conversionMethod": "pd.DataFrame",
       "ref": "2fdacd63-457a-49d7-829e-619399eeb6ee",
       "rows": [
        [
         "0",
         "34001",
         "2",
         "New Jersey",
         "Atlantic County",
         "1",
         "13.3",
         "5.8",
         "8.4",
         "9.6",
         "75.7",
         "87.4",
         "Medium metro",
         "3"
        ],
        [
         "1",
         "34003",
         "2",
         "New Jersey",
         "Bergen County",
         "5",
         "48.1",
         "3.1",
         "7.3",
         "9.4",
         "84.8",
         "737.2",
         "Large fringe metro",
         "2"
        ],
        [
         "2",
         "34005",
         "2",
         "New Jersey",
         "Burlington County",
         "1",
         "19",
         "4.2",
         "7.4",
         "9",
         "81.4",
         "103.4",
         "Large fringe metro",
         "2"
        ],
        [
         "3",
         "34007",
         "2",
         "New Jersey",
         "Camden County",
         "4",
         "29.7",
         "5.7",
         "9",
         "10.2",
         "77.7",
         "459",
         "Large fringe metro",
         "2"
        ],
        [
         "4",
         "34009",
         "2",
         "New Jersey",
         "Cape May County",
         "1",
         "6.4",
         "6",
         "8",
         "9.7",
         "75.4",
         "53.9",
         "Small metro",
         "4"
        ]
       ],
       "shape": {
        "columns": 13,
        "rows": 5
       }
      },
      "text/html": [
       "<div>\n",
       "<style scoped>\n",
       "    .dataframe tbody tr th:only-of-type {\n",
       "        vertical-align: middle;\n",
       "    }\n",
       "\n",
       "    .dataframe tbody tr th {\n",
       "        vertical-align: top;\n",
       "    }\n",
       "\n",
       "    .dataframe thead th {\n",
       "        text-align: right;\n",
       "    }\n",
       "</style>\n",
       "<table border=\"1\" class=\"dataframe\">\n",
       "  <thead>\n",
       "    <tr style=\"text-align: right;\">\n",
       "      <th></th>\n",
       "      <th>County FIPS Code</th>\n",
       "      <th>HRSA Region</th>\n",
       "      <th>State</th>\n",
       "      <th>County</th>\n",
       "      <th>Hospitals with Obstetric Care (#)</th>\n",
       "      <th>OB-GYN Provider Rate (per 100,000)</th>\n",
       "      <th>Infant Mortality Rate (per 1,000) 2020-2022</th>\n",
       "      <th>Low Birth Weight (%) 2020-2022</th>\n",
       "      <th>Preterm Births (%) 2020-2022</th>\n",
       "      <th>Prenatal Care in the 1st Trimester (%) 2020-2022</th>\n",
       "      <th>Population Density - Women 15-44 Years of Age</th>\n",
       "      <th>NCHS Urban-Rural Classification</th>\n",
       "      <th>NCHS Urban-Rural Code</th>\n",
       "    </tr>\n",
       "  </thead>\n",
       "  <tbody>\n",
       "    <tr>\n",
       "      <th>0</th>\n",
       "      <td>34001</td>\n",
       "      <td>2</td>\n",
       "      <td>New Jersey</td>\n",
       "      <td>Atlantic County</td>\n",
       "      <td>1</td>\n",
       "      <td>13.3</td>\n",
       "      <td>5.8</td>\n",
       "      <td>8.4</td>\n",
       "      <td>9.6</td>\n",
       "      <td>75.7</td>\n",
       "      <td>87.4</td>\n",
       "      <td>Medium metro</td>\n",
       "      <td>3</td>\n",
       "    </tr>\n",
       "    <tr>\n",
       "      <th>1</th>\n",
       "      <td>34003</td>\n",
       "      <td>2</td>\n",
       "      <td>New Jersey</td>\n",
       "      <td>Bergen County</td>\n",
       "      <td>5</td>\n",
       "      <td>48.1</td>\n",
       "      <td>3.1</td>\n",
       "      <td>7.3</td>\n",
       "      <td>9.4</td>\n",
       "      <td>84.8</td>\n",
       "      <td>737.2</td>\n",
       "      <td>Large fringe metro</td>\n",
       "      <td>2</td>\n",
       "    </tr>\n",
       "    <tr>\n",
       "      <th>2</th>\n",
       "      <td>34005</td>\n",
       "      <td>2</td>\n",
       "      <td>New Jersey</td>\n",
       "      <td>Burlington County</td>\n",
       "      <td>1</td>\n",
       "      <td>19</td>\n",
       "      <td>4.2</td>\n",
       "      <td>7.4</td>\n",
       "      <td>9</td>\n",
       "      <td>81.4</td>\n",
       "      <td>103.4</td>\n",
       "      <td>Large fringe metro</td>\n",
       "      <td>2</td>\n",
       "    </tr>\n",
       "    <tr>\n",
       "      <th>3</th>\n",
       "      <td>34007</td>\n",
       "      <td>2</td>\n",
       "      <td>New Jersey</td>\n",
       "      <td>Camden County</td>\n",
       "      <td>4</td>\n",
       "      <td>29.7</td>\n",
       "      <td>5.7</td>\n",
       "      <td>9</td>\n",
       "      <td>10.2</td>\n",
       "      <td>77.7</td>\n",
       "      <td>459</td>\n",
       "      <td>Large fringe metro</td>\n",
       "      <td>2</td>\n",
       "    </tr>\n",
       "    <tr>\n",
       "      <th>4</th>\n",
       "      <td>34009</td>\n",
       "      <td>2</td>\n",
       "      <td>New Jersey</td>\n",
       "      <td>Cape May County</td>\n",
       "      <td>1</td>\n",
       "      <td>6.4</td>\n",
       "      <td>6</td>\n",
       "      <td>8</td>\n",
       "      <td>9.7</td>\n",
       "      <td>75.4</td>\n",
       "      <td>53.9</td>\n",
       "      <td>Small metro</td>\n",
       "      <td>4</td>\n",
       "    </tr>\n",
       "  </tbody>\n",
       "</table>\n",
       "</div>"
      ],
      "text/plain": [
       "  County FIPS Code HRSA Region       State             County  \\\n",
       "0            34001           2  New Jersey    Atlantic County   \n",
       "1            34003           2  New Jersey      Bergen County   \n",
       "2            34005           2  New Jersey  Burlington County   \n",
       "3            34007           2  New Jersey      Camden County   \n",
       "4            34009           2  New Jersey    Cape May County   \n",
       "\n",
       "  Hospitals with Obstetric Care (#) OB-GYN Provider Rate (per 100,000)  \\\n",
       "0                                 1                               13.3   \n",
       "1                                 5                               48.1   \n",
       "2                                 1                                 19   \n",
       "3                                 4                               29.7   \n",
       "4                                 1                                6.4   \n",
       "\n",
       "  Infant Mortality Rate (per 1,000) 2020-2022 Low Birth Weight (%) 2020-2022  \\\n",
       "0                                         5.8                            8.4   \n",
       "1                                         3.1                            7.3   \n",
       "2                                         4.2                            7.4   \n",
       "3                                         5.7                              9   \n",
       "4                                           6                              8   \n",
       "\n",
       "  Preterm Births (%) 2020-2022  \\\n",
       "0                          9.6   \n",
       "1                          9.4   \n",
       "2                            9   \n",
       "3                         10.2   \n",
       "4                          9.7   \n",
       "\n",
       "  Prenatal Care in the 1st Trimester (%) 2020-2022  \\\n",
       "0                                             75.7   \n",
       "1                                             84.8   \n",
       "2                                             81.4   \n",
       "3                                             77.7   \n",
       "4                                             75.4   \n",
       "\n",
       "  Population Density - Women 15-44 Years of Age  \\\n",
       "0                                          87.4   \n",
       "1                                         737.2   \n",
       "2                                         103.4   \n",
       "3                                           459   \n",
       "4                                          53.9   \n",
       "\n",
       "  NCHS Urban-Rural Classification NCHS Urban-Rural Code  \n",
       "0                    Medium metro                     3  \n",
       "1              Large fringe metro                     2  \n",
       "2              Large fringe metro                     2  \n",
       "3              Large fringe metro                     2  \n",
       "4                     Small metro                     4  "
      ]
     },
     "execution_count": 9,
     "metadata": {},
     "output_type": "execute_result"
    }
   ],
   "source": [
    "df = df.drop([0, 1])\n",
    "\n",
    "# Reset the index\n",
    "df = df.reset_index(drop=True)\n",
    "\n",
    "# Rename the columns\n",
    "df.columns = [\n",
    "    'County FIPS Code', 'HRSA Region', 'State', 'County', \n",
    "    'Hospitals with Obstetric Care (#)', 'OB-GYN Provider Rate (per 100,000)', \n",
    "    'Infant Mortality Rate (per 1,000) 2020-2022', 'Low Birth Weight (%) 2020-2022', \n",
    "    'Preterm Births (%) 2020-2022', 'Prenatal Care in the 1st Trimester (%) 2020-2022', \n",
    "    'Population Density - Women 15-44 Years of Age', 'NCHS Urban-Rural Classification', \n",
    "    'NCHS Urban-Rural Code'\n",
    "]\n",
    "\n",
    "# Display the cleaned DataFrame\n",
    "df.head()"
   ]
  },
  {
   "cell_type": "code",
   "execution_count": 10,
   "metadata": {},
   "outputs": [],
   "source": [
    "df.to_csv('HRSA fixed chart.csv')"
   ]
  },
  {
   "cell_type": "code",
   "execution_count": 12,
   "metadata": {},
   "outputs": [
    {
     "data": {
      "text/plain": [
       "array(['New Jersey', 'New York', 'Texas', 'Puerto Rico'], dtype=object)"
      ]
     },
     "execution_count": 12,
     "metadata": {},
     "output_type": "execute_result"
    }
   ],
   "source": [
    "#how many distinct elements in the state column \n",
    "df['State'].unique()"
   ]
  },
  {
   "cell_type": "markdown",
   "metadata": {},
   "source": [
    "I deleted DC somehow when attempting to clean up the rows. I will start again and edit the file to be correct with headers at a later time"
   ]
  },
  {
   "cell_type": "code",
   "execution_count": 13,
   "metadata": {},
   "outputs": [
    {
     "data": {
      "text/plain": [
       "State\n",
       "Texas          254\n",
       "Puerto Rico     78\n",
       "New York        62\n",
       "New Jersey      21\n",
       "Name: count, dtype: int64"
      ]
     },
     "execution_count": 13,
     "metadata": {},
     "output_type": "execute_result"
    }
   ],
   "source": [
    "#calculate the frequency of each state\n",
    "df['State'].value_counts()"
   ]
  },
  {
   "cell_type": "code",
   "execution_count": 14,
   "metadata": {},
   "outputs": [
    {
     "data": {
      "text/plain": [
       "State\n",
       "Texas          0.612048\n",
       "Puerto Rico    0.187952\n",
       "New York       0.149398\n",
       "New Jersey     0.050602\n",
       "Name: proportion, dtype: float64"
      ]
     },
     "execution_count": 14,
     "metadata": {},
     "output_type": "execute_result"
    }
   ],
   "source": [
    "#calculate the proportions of each state    \n",
    "df['State'].value_counts(normalize=True)"
   ]
  },
  {
   "cell_type": "code",
   "execution_count": 16,
   "metadata": {},
   "outputs": [
    {
     "data": {
      "text/plain": [
       "State\n",
       "New Jersey     4.190476\n",
       "New York       5.082258\n",
       "Puerto Rico    7.452055\n",
       "Texas          5.865939\n",
       "Name: Infant Mortality Rate (per 1,000) 2020-2022, dtype: float64"
      ]
     },
     "execution_count": 16,
     "metadata": {},
     "output_type": "execute_result"
    }
   ],
   "source": [
    "# Convert the 'Infant Mortality Rate (per 1,000) 2020-2022' column to numeric\n",
    "df['Infant Mortality Rate (per 1,000) 2020-2022'] = pd.to_numeric(df['Infant Mortality Rate (per 1,000) 2020-2022'], errors='coerce')\n",
    "\n",
    "# Calculate the mean of the infant mortality rate separated by state\n",
    "df.groupby('State')['Infant Mortality Rate (per 1,000) 2020-2022'].mean()"
   ]
  },
  {
   "cell_type": "code",
   "execution_count": 17,
   "metadata": {},
   "outputs": [
    {
     "data": {
      "application/vnd.microsoft.datawrangler.viewer.v0+json": {
       "columns": [
        {
         "name": "index",
         "rawType": "int64",
         "type": "integer"
        },
        {
         "name": "State",
         "rawType": "object",
         "type": "string"
        },
        {
         "name": "Infant Mortality Rate (per 1,000) 2020-2022",
         "rawType": "float64",
         "type": "float"
        }
       ],
       "conversionMethod": "pd.DataFrame",
       "ref": "0c11d341-ea30-4442-8b7f-8af596664b16",
       "rows": [
        [
         "0",
         "New Jersey",
         "4.190476190476191"
        ],
        [
         "1",
         "New York",
         "5.08225806451613"
        ],
        [
         "2",
         "Puerto Rico",
         "7.4520547945205475"
        ],
        [
         "3",
         "Texas",
         "5.865938864628821"
        ]
       ],
       "shape": {
        "columns": 2,
        "rows": 4
       }
      },
      "text/html": [
       "<div>\n",
       "<style scoped>\n",
       "    .dataframe tbody tr th:only-of-type {\n",
       "        vertical-align: middle;\n",
       "    }\n",
       "\n",
       "    .dataframe tbody tr th {\n",
       "        vertical-align: top;\n",
       "    }\n",
       "\n",
       "    .dataframe thead th {\n",
       "        text-align: right;\n",
       "    }\n",
       "</style>\n",
       "<table border=\"1\" class=\"dataframe\">\n",
       "  <thead>\n",
       "    <tr style=\"text-align: right;\">\n",
       "      <th></th>\n",
       "      <th>State</th>\n",
       "      <th>Infant Mortality Rate (per 1,000) 2020-2022</th>\n",
       "    </tr>\n",
       "  </thead>\n",
       "  <tbody>\n",
       "    <tr>\n",
       "      <th>0</th>\n",
       "      <td>New Jersey</td>\n",
       "      <td>4.190476</td>\n",
       "    </tr>\n",
       "    <tr>\n",
       "      <th>1</th>\n",
       "      <td>New York</td>\n",
       "      <td>5.082258</td>\n",
       "    </tr>\n",
       "    <tr>\n",
       "      <th>2</th>\n",
       "      <td>Puerto Rico</td>\n",
       "      <td>7.452055</td>\n",
       "    </tr>\n",
       "    <tr>\n",
       "      <th>3</th>\n",
       "      <td>Texas</td>\n",
       "      <td>5.865939</td>\n",
       "    </tr>\n",
       "  </tbody>\n",
       "</table>\n",
       "</div>"
      ],
      "text/plain": [
       "         State  Infant Mortality Rate (per 1,000) 2020-2022\n",
       "0   New Jersey                                     4.190476\n",
       "1     New York                                     5.082258\n",
       "2  Puerto Rico                                     7.452055\n",
       "3        Texas                                     5.865939"
      ]
     },
     "execution_count": 17,
     "metadata": {},
     "output_type": "execute_result"
    }
   ],
   "source": [
    "#can you make this a table\n",
    "df.groupby('State')['Infant Mortality Rate (per 1,000) 2020-2022'].mean().reset_index()"
   ]
  },
  {
   "cell_type": "code",
   "execution_count": 18,
   "metadata": {},
   "outputs": [
    {
     "data": {
      "text/plain": [
       "np.float64(1.6784030897904656)"
      ]
     },
     "execution_count": 18,
     "metadata": {},
     "output_type": "execute_result"
    }
   ],
   "source": [
    "#calculate the overall Sd of the infant mortality rate\n",
    "df['Infant Mortality Rate (per 1,000) 2020-2022'].std()"
   ]
  },
  {
   "cell_type": "code",
   "execution_count": 19,
   "metadata": {},
   "outputs": [
    {
     "data": {
      "application/vnd.microsoft.datawrangler.viewer.v0+json": {
       "columns": [
        {
         "name": "index",
         "rawType": "int64",
         "type": "integer"
        },
        {
         "name": "State",
         "rawType": "object",
         "type": "string"
        },
        {
         "name": "mean",
         "rawType": "float64",
         "type": "float"
        },
        {
         "name": "std",
         "rawType": "float64",
         "type": "float"
        }
       ],
       "conversionMethod": "pd.DataFrame",
       "ref": "dce2a9a2-a31f-4a3c-8f10-f7c407142614",
       "rows": [
        [
         "0",
         "New Jersey",
         "4.190476190476191",
         "1.393881186437625"
        ],
        [
         "1",
         "New York",
         "5.08225806451613",
         "1.0821236245773047"
        ],
        [
         "2",
         "Puerto Rico",
         "7.4520547945205475",
         "2.0258818099945937"
        ],
        [
         "3",
         "Texas",
         "5.865938864628821",
         "1.3211078603589541"
        ]
       ],
       "shape": {
        "columns": 3,
        "rows": 4
       }
      },
      "text/html": [
       "<div>\n",
       "<style scoped>\n",
       "    .dataframe tbody tr th:only-of-type {\n",
       "        vertical-align: middle;\n",
       "    }\n",
       "\n",
       "    .dataframe tbody tr th {\n",
       "        vertical-align: top;\n",
       "    }\n",
       "\n",
       "    .dataframe thead th {\n",
       "        text-align: right;\n",
       "    }\n",
       "</style>\n",
       "<table border=\"1\" class=\"dataframe\">\n",
       "  <thead>\n",
       "    <tr style=\"text-align: right;\">\n",
       "      <th></th>\n",
       "      <th>State</th>\n",
       "      <th>mean</th>\n",
       "      <th>std</th>\n",
       "    </tr>\n",
       "  </thead>\n",
       "  <tbody>\n",
       "    <tr>\n",
       "      <th>0</th>\n",
       "      <td>New Jersey</td>\n",
       "      <td>4.190476</td>\n",
       "      <td>1.393881</td>\n",
       "    </tr>\n",
       "    <tr>\n",
       "      <th>1</th>\n",
       "      <td>New York</td>\n",
       "      <td>5.082258</td>\n",
       "      <td>1.082124</td>\n",
       "    </tr>\n",
       "    <tr>\n",
       "      <th>2</th>\n",
       "      <td>Puerto Rico</td>\n",
       "      <td>7.452055</td>\n",
       "      <td>2.025882</td>\n",
       "    </tr>\n",
       "    <tr>\n",
       "      <th>3</th>\n",
       "      <td>Texas</td>\n",
       "      <td>5.865939</td>\n",
       "      <td>1.321108</td>\n",
       "    </tr>\n",
       "  </tbody>\n",
       "</table>\n",
       "</div>"
      ],
      "text/plain": [
       "         State      mean       std\n",
       "0   New Jersey  4.190476  1.393881\n",
       "1     New York  5.082258  1.082124\n",
       "2  Puerto Rico  7.452055  2.025882\n",
       "3        Texas  5.865939  1.321108"
      ]
     },
     "execution_count": 19,
     "metadata": {},
     "output_type": "execute_result"
    }
   ],
   "source": [
    "#calculate the Standard deviation of the infant mortality rate separated by state and display the results in a table including the mean by state\n",
    "df.groupby('State')['Infant Mortality Rate (per 1,000) 2020-2022'].agg(['mean', 'std']).reset_index()\n"
   ]
  },
  {
   "cell_type": "code",
   "execution_count": 20,
   "metadata": {},
   "outputs": [
    {
     "data": {
      "text/plain": [
       "count     415\n",
       "unique     12\n",
       "top         0\n",
       "freq      244\n",
       "Name: Hospitals with Obstetric Care (#), dtype: object"
      ]
     },
     "execution_count": 20,
     "metadata": {},
     "output_type": "execute_result"
    }
   ],
   "source": [
    "#describe the summary statistics of hospitals with obstetric care\n",
    "df['Hospitals with Obstetric Care (#)'].describe()"
   ]
  },
  {
   "cell_type": "code",
   "execution_count": 22,
   "metadata": {},
   "outputs": [
    {
     "data": {
      "application/vnd.microsoft.datawrangler.viewer.v0+json": {
       "columns": [
        {
         "name": "index",
         "rawType": "int64",
         "type": "integer"
        },
        {
         "name": "State",
         "rawType": "object",
         "type": "string"
        },
        {
         "name": "mean",
         "rawType": "float64",
         "type": "float"
        },
        {
         "name": "std",
         "rawType": "float64",
         "type": "float"
        }
       ],
       "conversionMethod": "pd.DataFrame",
       "ref": "45bcc5c0-fbb0-4dd2-9c9a-7abe1ea93e99",
       "rows": [
        [
         "0",
         "New Jersey",
         "2.0",
         "1.58113883008419"
        ],
        [
         "1",
         "New York",
         "1.532258064516129",
         "1.9645859859638044"
        ],
        [
         "2",
         "Puerto Rico",
         "0.07692307692307693",
         "0.2681940937606045"
        ],
        [
         "3",
         "Texas",
         "0.7874015748031497",
         "1.833504263843175"
        ]
       ],
       "shape": {
        "columns": 3,
        "rows": 4
       }
      },
      "text/html": [
       "<div>\n",
       "<style scoped>\n",
       "    .dataframe tbody tr th:only-of-type {\n",
       "        vertical-align: middle;\n",
       "    }\n",
       "\n",
       "    .dataframe tbody tr th {\n",
       "        vertical-align: top;\n",
       "    }\n",
       "\n",
       "    .dataframe thead th {\n",
       "        text-align: right;\n",
       "    }\n",
       "</style>\n",
       "<table border=\"1\" class=\"dataframe\">\n",
       "  <thead>\n",
       "    <tr style=\"text-align: right;\">\n",
       "      <th></th>\n",
       "      <th>State</th>\n",
       "      <th>mean</th>\n",
       "      <th>std</th>\n",
       "    </tr>\n",
       "  </thead>\n",
       "  <tbody>\n",
       "    <tr>\n",
       "      <th>0</th>\n",
       "      <td>New Jersey</td>\n",
       "      <td>2.000000</td>\n",
       "      <td>1.581139</td>\n",
       "    </tr>\n",
       "    <tr>\n",
       "      <th>1</th>\n",
       "      <td>New York</td>\n",
       "      <td>1.532258</td>\n",
       "      <td>1.964586</td>\n",
       "    </tr>\n",
       "    <tr>\n",
       "      <th>2</th>\n",
       "      <td>Puerto Rico</td>\n",
       "      <td>0.076923</td>\n",
       "      <td>0.268194</td>\n",
       "    </tr>\n",
       "    <tr>\n",
       "      <th>3</th>\n",
       "      <td>Texas</td>\n",
       "      <td>0.787402</td>\n",
       "      <td>1.833504</td>\n",
       "    </tr>\n",
       "  </tbody>\n",
       "</table>\n",
       "</div>"
      ],
      "text/plain": [
       "         State      mean       std\n",
       "0   New Jersey  2.000000  1.581139\n",
       "1     New York  1.532258  1.964586\n",
       "2  Puerto Rico  0.076923  0.268194\n",
       "3        Texas  0.787402  1.833504"
      ]
     },
     "execution_count": 22,
     "metadata": {},
     "output_type": "execute_result"
    }
   ],
   "source": [
    "# Convert the 'Hospitals with Obstetric Care (#)' column to numeric\n",
    "df['Hospitals with Obstetric Care (#)'] = pd.to_numeric(df['Hospitals with Obstetric Care (#)'], errors='coerce')\n",
    "\n",
    "# Create a table that shows the mean and standard deviation of the number of hospitals with obstetric care separated by state\n",
    "df.groupby('State')['Hospitals with Obstetric Care (#)'].agg(['mean', 'std']).reset_index()"
   ]
  },
  {
   "cell_type": "code",
   "execution_count": 24,
   "metadata": {},
   "outputs": [
    {
     "data": {
      "application/vnd.microsoft.datawrangler.viewer.v0+json": {
       "columns": [
        {
         "name": "index",
         "rawType": "int64",
         "type": "integer"
        },
        {
         "name": "State",
         "rawType": "object",
         "type": "string"
        },
        {
         "name": "level_1",
         "rawType": "object",
         "type": "string"
        },
        {
         "name": "Infant Mortality Rate (per 1,000) 2020-2022",
         "rawType": "float64",
         "type": "float"
        },
        {
         "name": "Hospitals with Obstetric Care (#)",
         "rawType": "float64",
         "type": "float"
        }
       ],
       "conversionMethod": "pd.DataFrame",
       "ref": "b2436536-eda7-42ad-b059-3920acd5b02a",
       "rows": [
        [
         "0",
         "New Jersey",
         "Infant Mortality Rate (per 1,000) 2020-2022",
         "1.0",
         "-0.2949290799114212"
        ],
        [
         "1",
         "New Jersey",
         "Hospitals with Obstetric Care (#)",
         "-0.2949290799114212",
         "1.0"
        ],
        [
         "2",
         "New York",
         "Infant Mortality Rate (per 1,000) 2020-2022",
         "1.0",
         "-0.4219148463147321"
        ],
        [
         "3",
         "New York",
         "Hospitals with Obstetric Care (#)",
         "-0.4219148463147321",
         "1.0"
        ],
        [
         "4",
         "Puerto Rico",
         "Infant Mortality Rate (per 1,000) 2020-2022",
         "1.0",
         "0.017047037138992815"
        ],
        [
         "5",
         "Puerto Rico",
         "Hospitals with Obstetric Care (#)",
         "0.017047037138992815",
         "1.0"
        ],
        [
         "6",
         "Texas",
         "Infant Mortality Rate (per 1,000) 2020-2022",
         "1.0",
         "-0.07287749924056054"
        ],
        [
         "7",
         "Texas",
         "Hospitals with Obstetric Care (#)",
         "-0.07287749924056054",
         "1.0"
        ]
       ],
       "shape": {
        "columns": 4,
        "rows": 8
       }
      },
      "text/html": [
       "<div>\n",
       "<style scoped>\n",
       "    .dataframe tbody tr th:only-of-type {\n",
       "        vertical-align: middle;\n",
       "    }\n",
       "\n",
       "    .dataframe tbody tr th {\n",
       "        vertical-align: top;\n",
       "    }\n",
       "\n",
       "    .dataframe thead th {\n",
       "        text-align: right;\n",
       "    }\n",
       "</style>\n",
       "<table border=\"1\" class=\"dataframe\">\n",
       "  <thead>\n",
       "    <tr style=\"text-align: right;\">\n",
       "      <th></th>\n",
       "      <th>State</th>\n",
       "      <th>level_1</th>\n",
       "      <th>Infant Mortality Rate (per 1,000) 2020-2022</th>\n",
       "      <th>Hospitals with Obstetric Care (#)</th>\n",
       "    </tr>\n",
       "  </thead>\n",
       "  <tbody>\n",
       "    <tr>\n",
       "      <th>0</th>\n",
       "      <td>New Jersey</td>\n",
       "      <td>Infant Mortality Rate (per 1,000) 2020-2022</td>\n",
       "      <td>1.000000</td>\n",
       "      <td>-0.294929</td>\n",
       "    </tr>\n",
       "    <tr>\n",
       "      <th>1</th>\n",
       "      <td>New Jersey</td>\n",
       "      <td>Hospitals with Obstetric Care (#)</td>\n",
       "      <td>-0.294929</td>\n",
       "      <td>1.000000</td>\n",
       "    </tr>\n",
       "    <tr>\n",
       "      <th>2</th>\n",
       "      <td>New York</td>\n",
       "      <td>Infant Mortality Rate (per 1,000) 2020-2022</td>\n",
       "      <td>1.000000</td>\n",
       "      <td>-0.421915</td>\n",
       "    </tr>\n",
       "    <tr>\n",
       "      <th>3</th>\n",
       "      <td>New York</td>\n",
       "      <td>Hospitals with Obstetric Care (#)</td>\n",
       "      <td>-0.421915</td>\n",
       "      <td>1.000000</td>\n",
       "    </tr>\n",
       "    <tr>\n",
       "      <th>4</th>\n",
       "      <td>Puerto Rico</td>\n",
       "      <td>Infant Mortality Rate (per 1,000) 2020-2022</td>\n",
       "      <td>1.000000</td>\n",
       "      <td>0.017047</td>\n",
       "    </tr>\n",
       "    <tr>\n",
       "      <th>5</th>\n",
       "      <td>Puerto Rico</td>\n",
       "      <td>Hospitals with Obstetric Care (#)</td>\n",
       "      <td>0.017047</td>\n",
       "      <td>1.000000</td>\n",
       "    </tr>\n",
       "    <tr>\n",
       "      <th>6</th>\n",
       "      <td>Texas</td>\n",
       "      <td>Infant Mortality Rate (per 1,000) 2020-2022</td>\n",
       "      <td>1.000000</td>\n",
       "      <td>-0.072877</td>\n",
       "    </tr>\n",
       "    <tr>\n",
       "      <th>7</th>\n",
       "      <td>Texas</td>\n",
       "      <td>Hospitals with Obstetric Care (#)</td>\n",
       "      <td>-0.072877</td>\n",
       "      <td>1.000000</td>\n",
       "    </tr>\n",
       "  </tbody>\n",
       "</table>\n",
       "</div>"
      ],
      "text/plain": [
       "         State                                      level_1  \\\n",
       "0   New Jersey  Infant Mortality Rate (per 1,000) 2020-2022   \n",
       "1   New Jersey            Hospitals with Obstetric Care (#)   \n",
       "2     New York  Infant Mortality Rate (per 1,000) 2020-2022   \n",
       "3     New York            Hospitals with Obstetric Care (#)   \n",
       "4  Puerto Rico  Infant Mortality Rate (per 1,000) 2020-2022   \n",
       "5  Puerto Rico            Hospitals with Obstetric Care (#)   \n",
       "6        Texas  Infant Mortality Rate (per 1,000) 2020-2022   \n",
       "7        Texas            Hospitals with Obstetric Care (#)   \n",
       "\n",
       "   Infant Mortality Rate (per 1,000) 2020-2022  \\\n",
       "0                                     1.000000   \n",
       "1                                    -0.294929   \n",
       "2                                     1.000000   \n",
       "3                                    -0.421915   \n",
       "4                                     1.000000   \n",
       "5                                     0.017047   \n",
       "6                                     1.000000   \n",
       "7                                    -0.072877   \n",
       "\n",
       "   Hospitals with Obstetric Care (#)  \n",
       "0                          -0.294929  \n",
       "1                           1.000000  \n",
       "2                          -0.421915  \n",
       "3                           1.000000  \n",
       "4                           0.017047  \n",
       "5                           1.000000  \n",
       "6                          -0.072877  \n",
       "7                           1.000000  "
      ]
     },
     "execution_count": 24,
     "metadata": {},
     "output_type": "execute_result"
    }
   ],
   "source": [
    "#can you create a correlation between the infant mortality rate and the number of hospitals with obstetric care seperated by state\n",
    "df.groupby('State')[['Infant Mortality Rate (per 1,000) 2020-2022', 'Hospitals with Obstetric Care (#)']].corr().reset_index()\n",
    "\n"
   ]
  },
  {
   "cell_type": "code",
   "execution_count": 25,
   "metadata": {},
   "outputs": [
    {
     "data": {
      "application/vnd.microsoft.datawrangler.viewer.v0+json": {
       "columns": [
        {
         "name": "index",
         "rawType": "int64",
         "type": "integer"
        },
        {
         "name": "State",
         "rawType": "object",
         "type": "string"
        },
        {
         "name": "level_1",
         "rawType": "object",
         "type": "string"
        },
        {
         "name": "Hospitals with Obstetric Care (#)",
         "rawType": "float64",
         "type": "float"
        },
        {
         "name": "Infant Mortality Rate (per 1,000) 2020-2022",
         "rawType": "float64",
         "type": "float"
        }
       ],
       "conversionMethod": "pd.DataFrame",
       "ref": "97689ca2-6e6f-442a-a1d3-c9df8ab69290",
       "rows": [
        [
         "0",
         "New Jersey",
         "Hospitals with Obstetric Care (#)",
         "1.0",
         "-0.29492907991142114"
        ],
        [
         "1",
         "New Jersey",
         "Infant Mortality Rate (per 1,000) 2020-2022",
         "-0.29492907991142114",
         "1.0"
        ],
        [
         "2",
         "New York",
         "Hospitals with Obstetric Care (#)",
         "1.0",
         "-0.4219148463147319"
        ],
        [
         "3",
         "New York",
         "Infant Mortality Rate (per 1,000) 2020-2022",
         "-0.4219148463147319",
         "1.0"
        ],
        [
         "4",
         "Puerto Rico",
         "Hospitals with Obstetric Care (#)",
         "1.0",
         "0.017047037138992815"
        ],
        [
         "5",
         "Puerto Rico",
         "Infant Mortality Rate (per 1,000) 2020-2022",
         "0.017047037138992815",
         "1.0"
        ],
        [
         "6",
         "Texas",
         "Hospitals with Obstetric Care (#)",
         "1.0",
         "-0.07287749924056054"
        ],
        [
         "7",
         "Texas",
         "Infant Mortality Rate (per 1,000) 2020-2022",
         "-0.07287749924056054",
         "1.0"
        ]
       ],
       "shape": {
        "columns": 4,
        "rows": 8
       }
      },
      "text/html": [
       "<div>\n",
       "<style scoped>\n",
       "    .dataframe tbody tr th:only-of-type {\n",
       "        vertical-align: middle;\n",
       "    }\n",
       "\n",
       "    .dataframe tbody tr th {\n",
       "        vertical-align: top;\n",
       "    }\n",
       "\n",
       "    .dataframe thead th {\n",
       "        text-align: right;\n",
       "    }\n",
       "</style>\n",
       "<table border=\"1\" class=\"dataframe\">\n",
       "  <thead>\n",
       "    <tr style=\"text-align: right;\">\n",
       "      <th></th>\n",
       "      <th>State</th>\n",
       "      <th>level_1</th>\n",
       "      <th>Hospitals with Obstetric Care (#)</th>\n",
       "      <th>Infant Mortality Rate (per 1,000) 2020-2022</th>\n",
       "    </tr>\n",
       "  </thead>\n",
       "  <tbody>\n",
       "    <tr>\n",
       "      <th>0</th>\n",
       "      <td>New Jersey</td>\n",
       "      <td>Hospitals with Obstetric Care (#)</td>\n",
       "      <td>1.000000</td>\n",
       "      <td>-0.294929</td>\n",
       "    </tr>\n",
       "    <tr>\n",
       "      <th>1</th>\n",
       "      <td>New Jersey</td>\n",
       "      <td>Infant Mortality Rate (per 1,000) 2020-2022</td>\n",
       "      <td>-0.294929</td>\n",
       "      <td>1.000000</td>\n",
       "    </tr>\n",
       "    <tr>\n",
       "      <th>2</th>\n",
       "      <td>New York</td>\n",
       "      <td>Hospitals with Obstetric Care (#)</td>\n",
       "      <td>1.000000</td>\n",
       "      <td>-0.421915</td>\n",
       "    </tr>\n",
       "    <tr>\n",
       "      <th>3</th>\n",
       "      <td>New York</td>\n",
       "      <td>Infant Mortality Rate (per 1,000) 2020-2022</td>\n",
       "      <td>-0.421915</td>\n",
       "      <td>1.000000</td>\n",
       "    </tr>\n",
       "    <tr>\n",
       "      <th>4</th>\n",
       "      <td>Puerto Rico</td>\n",
       "      <td>Hospitals with Obstetric Care (#)</td>\n",
       "      <td>1.000000</td>\n",
       "      <td>0.017047</td>\n",
       "    </tr>\n",
       "    <tr>\n",
       "      <th>5</th>\n",
       "      <td>Puerto Rico</td>\n",
       "      <td>Infant Mortality Rate (per 1,000) 2020-2022</td>\n",
       "      <td>0.017047</td>\n",
       "      <td>1.000000</td>\n",
       "    </tr>\n",
       "    <tr>\n",
       "      <th>6</th>\n",
       "      <td>Texas</td>\n",
       "      <td>Hospitals with Obstetric Care (#)</td>\n",
       "      <td>1.000000</td>\n",
       "      <td>-0.072877</td>\n",
       "    </tr>\n",
       "    <tr>\n",
       "      <th>7</th>\n",
       "      <td>Texas</td>\n",
       "      <td>Infant Mortality Rate (per 1,000) 2020-2022</td>\n",
       "      <td>-0.072877</td>\n",
       "      <td>1.000000</td>\n",
       "    </tr>\n",
       "  </tbody>\n",
       "</table>\n",
       "</div>"
      ],
      "text/plain": [
       "         State                                      level_1  \\\n",
       "0   New Jersey            Hospitals with Obstetric Care (#)   \n",
       "1   New Jersey  Infant Mortality Rate (per 1,000) 2020-2022   \n",
       "2     New York            Hospitals with Obstetric Care (#)   \n",
       "3     New York  Infant Mortality Rate (per 1,000) 2020-2022   \n",
       "4  Puerto Rico            Hospitals with Obstetric Care (#)   \n",
       "5  Puerto Rico  Infant Mortality Rate (per 1,000) 2020-2022   \n",
       "6        Texas            Hospitals with Obstetric Care (#)   \n",
       "7        Texas  Infant Mortality Rate (per 1,000) 2020-2022   \n",
       "\n",
       "   Hospitals with Obstetric Care (#)  \\\n",
       "0                           1.000000   \n",
       "1                          -0.294929   \n",
       "2                           1.000000   \n",
       "3                          -0.421915   \n",
       "4                           1.000000   \n",
       "5                           0.017047   \n",
       "6                           1.000000   \n",
       "7                          -0.072877   \n",
       "\n",
       "   Infant Mortality Rate (per 1,000) 2020-2022  \n",
       "0                                    -0.294929  \n",
       "1                                     1.000000  \n",
       "2                                    -0.421915  \n",
       "3                                     1.000000  \n",
       "4                                     0.017047  \n",
       "5                                     1.000000  \n",
       "6                                    -0.072877  \n",
       "7                                     1.000000  "
      ]
     },
     "execution_count": 25,
     "metadata": {},
     "output_type": "execute_result"
    }
   ],
   "source": [
    "#remake this chart and put hospitals first\n",
    "df.groupby('State')[['Hospitals with Obstetric Care (#)', 'Infant Mortality Rate (per 1,000) 2020-2022']].corr().reset_index()"
   ]
  },
  {
   "cell_type": "code",
   "execution_count": 26,
   "metadata": {},
   "outputs": [
    {
     "data": {
      "text/plain": [
       "State                                         \n",
       "New Jersey   Hospitals with Obstetric Care (#)   -0.294929\n",
       "New York     Hospitals with Obstetric Care (#)   -0.421915\n",
       "Puerto Rico  Hospitals with Obstetric Care (#)    0.017047\n",
       "Texas        Hospitals with Obstetric Care (#)   -0.072877\n",
       "Name: Infant Mortality Rate (per 1,000) 2020-2022, dtype: float64"
      ]
     },
     "execution_count": 26,
     "metadata": {},
     "output_type": "execute_result"
    }
   ],
   "source": [
    "#calculate this correlation for each state without the table \n",
    "df.groupby('State')[['Hospitals with Obstetric Care (#)', 'Infant Mortality Rate (per 1,000) 2020-2022']].corr().iloc[0::2, -1]"
   ]
  },
  {
   "cell_type": "code",
   "execution_count": 28,
   "metadata": {},
   "outputs": [
    {
     "data": {
      "text/plain": [
       "count     415\n",
       "unique     67\n",
       "top       8.8\n",
       "freq       20\n",
       "Name: Low Birth Weight (%) 2020-2022, dtype: object"
      ]
     },
     "execution_count": 28,
     "metadata": {},
     "output_type": "execute_result"
    }
   ],
   "source": [
    "#describe summary statistics of low birth weight column \n",
    "df['Low Birth Weight (%) 2020-2022'].describe()"
   ]
  },
  {
   "cell_type": "code",
   "execution_count": 29,
   "metadata": {},
   "outputs": [],
   "source": [
    "#convert the low birth weight column to numeric\n",
    "df['Low Birth Weight (%) 2020-2022'] = pd.to_numeric(df['Low Birth Weight (%) 2020-2022'], errors='coerce')"
   ]
  },
  {
   "cell_type": "code",
   "execution_count": 31,
   "metadata": {},
   "outputs": [
    {
     "data": {
      "text/plain": [
       "count    415.000000\n",
       "mean       8.674458\n",
       "std        1.306680\n",
       "min        4.500000\n",
       "25%        7.800000\n",
       "50%        8.600000\n",
       "75%        9.300000\n",
       "max       13.100000\n",
       "Name: Low Birth Weight (%) 2020-2022, dtype: float64"
      ]
     },
     "execution_count": 31,
     "metadata": {},
     "output_type": "execute_result"
    }
   ],
   "source": [
    "#describe summary statistics of low birth weight column\n",
    "df['Low Birth Weight (%) 2020-2022'].describe()"
   ]
  },
  {
   "cell_type": "code",
   "execution_count": null,
   "metadata": {},
   "outputs": [],
   "source": []
  }
 ],
 "metadata": {
  "kernelspec": {
   "display_name": ".venv",
   "language": "python",
   "name": "python3"
  },
  "language_info": {
   "codemirror_mode": {
    "name": "ipython",
    "version": 3
   },
   "file_extension": ".py",
   "mimetype": "text/x-python",
   "name": "python",
   "nbconvert_exporter": "python",
   "pygments_lexer": "ipython3",
   "version": "3.12.0"
  }
 },
 "nbformat": 4,
 "nbformat_minor": 2
}
