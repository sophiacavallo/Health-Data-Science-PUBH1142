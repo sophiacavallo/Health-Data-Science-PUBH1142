{
 "cells": [
  {
   "cell_type": "markdown",
   "metadata": {},
   "source": [
    "# 11| Distributions"
   ]
  },
  {
   "cell_type": "code",
   "execution_count": 1,
   "metadata": {},
   "outputs": [],
   "source": [
    "import numpy\n",
    "from plotly import graph_objs, figure_factory\n",
    "import pandas\n",
    "from scipy import stats"
   ]
  },
  {
   "cell_type": "markdown",
   "metadata": {},
   "source": [
    "Question 1. Select a random sample of 40 individuals from the population and assign the created numpy array to the variable sample."
   ]
  },
  {
   "cell_type": "code",
   "execution_count": 2,
   "metadata": {},
   "outputs": [],
   "source": [
    "# Select a random sample of 40 individuals from the population and assign the created numpy array to the variable sample.\n",
    "sample = numpy.random.choice(\n",
    "    a=numpy.arange(1, 101),\n",
    "    size=40,\n",
    "    replace=False\n",
    ")"
   ]
  },
  {
   "cell_type": "markdown",
   "metadata": {},
   "source": [
    "Question 2. "
   ]
  },
  {
   "cell_type": "code",
   "execution_count": 3,
   "metadata": {},
   "outputs": [],
   "source": [
    "#Calculate the sample mean and assign the value to the variable sample_mean.\n",
    "sample_mean = sample.mean()\n"
   ]
  },
  {
   "cell_type": "code",
   "execution_count": 4,
   "metadata": {},
   "outputs": [
    {
     "name": "stdout",
     "output_type": "stream",
     "text": [
      "Sample mean: 57.35\n"
     ]
    }
   ],
   "source": [
    "#print that value \n",
    "print(f\"Sample mean: {sample_mean}\")"
   ]
  },
  {
   "cell_type": "markdown",
   "metadata": {},
   "source": [
    "Question 3."
   ]
  },
  {
   "cell_type": "code",
   "execution_count": 5,
   "metadata": {},
   "outputs": [
    {
     "name": "stdout",
     "output_type": "stream",
     "text": [
      "Sample standard deviation: 25.007229723852628\n"
     ]
    }
   ],
   "source": [
    "#Calculate the standard deviation of the sample and assign the value to the variable sample_std.\n",
    "sample_std = sample.std(ddof=1)\n",
    "#print that value\n",
    "print(f\"Sample standard deviation: {sample_std}\")"
   ]
  },
  {
   "cell_type": "markdown",
   "metadata": {},
   "source": [
    "Question 4. "
   ]
  },
  {
   "cell_type": "code",
   "execution_count": 7,
   "metadata": {},
   "outputs": [
    {
     "name": "stdout",
     "output_type": "stream",
     "text": [
      "Standard error: 3.9539901949218916\n"
     ]
    }
   ],
   "source": [
    "#Calculate the standard error of the sample and assign the value to the variable standard_error.\n",
    "\n",
    "standard_error = sample_std / (sample.size ** 0.5)\n",
    "#print that value\n",
    "print(f\"Standard error: {standard_error}\")\n"
   ]
  },
  {
   "cell_type": "markdown",
   "metadata": {},
   "source": [
    "Question 5. "
   ]
  },
  {
   "cell_type": "code",
   "execution_count": 8,
   "metadata": {},
   "outputs": [
    {
     "name": "stdout",
     "output_type": "stream",
     "text": [
      "Confidence coefficient: 2.0226909200367604\n"
     ]
    }
   ],
   "source": [
    "#Calculate the confidence coefficient for a 95% confidence level, given the sample size and degrees of freedom, and assign the value to the variable c.\n",
    "c = stats.t.ppf(0.975, df=sample.size - 1)\n",
    "#print that value\n",
    "print(f\"Confidence coefficient: {c}\")\n"
   ]
  },
  {
   "cell_type": "markdown",
   "metadata": {},
   "source": [
    "Question 6. "
   ]
  },
  {
   "cell_type": "code",
   "execution_count": 9,
   "metadata": {},
   "outputs": [
    {
     "name": "stdout",
     "output_type": "stream",
     "text": [
      "Lower bound: 49.35229993481711\n"
     ]
    }
   ],
   "source": [
    "#Calculate the lower bound of the confidence interval for the sample mean and assign the result to the variable lower_bound.\n",
    "\n",
    "lower_bound = sample_mean - c * standard_error\n",
    "#print that value\n",
    "print(f\"Lower bound: {lower_bound}\")"
   ]
  },
  {
   "cell_type": "markdown",
   "metadata": {},
   "source": [
    "Question 7."
   ]
  },
  {
   "cell_type": "code",
   "execution_count": 10,
   "metadata": {},
   "outputs": [
    {
     "name": "stdout",
     "output_type": "stream",
     "text": [
      "Upper bound: 65.34770006518289\n"
     ]
    }
   ],
   "source": [
    "#Calculate the upper bound of the confidence interval for the sample mean and assign the result to the variable upper_bound.\n",
    "\n",
    "upper_bound = sample_mean + c * standard_error\n",
    "#print that value\n",
    "print(f\"Upper bound: {upper_bound}\")\n",
    "\n"
   ]
  },
  {
   "cell_type": "markdown",
   "metadata": {},
   "source": [
    "Question 8. "
   ]
  },
  {
   "cell_type": "code",
   "execution_count": 11,
   "metadata": {},
   "outputs": [],
   "source": [
    "#Create an array of 1000 bootstrapped sample means (using the sample size of 40) and assign the array to the variable bootstrapped_means and sort the values in the array in ascending order.\n",
    "bootstrapped_means = numpy.array([\n",
    "    numpy.random.choice(sample, size=sample.size, replace=True).mean()\n",
    "    for _ in range(1000)\n",
    "])\n",
    "bootstrapped_means.sort()\n"
   ]
  },
  {
   "cell_type": "code",
   "execution_count": 12,
   "metadata": {},
   "outputs": [
    {
     "name": "stdout",
     "output_type": "stream",
     "text": [
      "Bootstrapped means: [46.425 46.675 47.175 47.225 47.45  48.    48.1   48.2   48.475 48.575\n",
      " 48.6   48.7   48.775 48.825 48.9   48.975 48.975 49.    49.15  49.2\n",
      " 49.2   49.225 49.275 49.325 49.5   49.65  49.7   49.75  49.825 49.975\n",
      " 50.075 50.1   50.2   50.325 50.325 50.35  50.475 50.5   50.525 50.575\n",
      " 50.625 50.7   50.725 50.75  50.775 50.875 50.875 50.925 50.975 51.\n",
      " 51.    51.025 51.05  51.05  51.125 51.125 51.125 51.125 51.175 51.2\n",
      " 51.3   51.325 51.35  51.35  51.375 51.375 51.425 51.5   51.5   51.525\n",
      " 51.55  51.6   51.6   51.625 51.625 51.65  51.725 51.775 51.825 51.825\n",
      " 51.85  51.9   51.9   51.9   51.925 51.95  51.95  51.975 52.    52.\n",
      " 52.025 52.075 52.075 52.075 52.075 52.1   52.125 52.125 52.15  52.175\n",
      " 52.175 52.2   52.2   52.2   52.225 52.25  52.3   52.4   52.45  52.5\n",
      " 52.55  52.575 52.575 52.6   52.6   52.65  52.675 52.75  52.75  52.775\n",
      " 52.85  52.85  52.875 52.875 52.925 52.95  52.975 52.975 52.975 52.975\n",
      " 53.025 53.025 53.05  53.075 53.1   53.125 53.15  53.175 53.2   53.225\n",
      " 53.25  53.25  53.275 53.275 53.3   53.3   53.325 53.35  53.375 53.375\n",
      " 53.4   53.4   53.425 53.425 53.45  53.45  53.45  53.45  53.475 53.5\n",
      " 53.5   53.525 53.525 53.55  53.575 53.6   53.625 53.625 53.625 53.625\n",
      " 53.65  53.675 53.675 53.675 53.7   53.725 53.75  53.75  53.775 53.775\n",
      " 53.8   53.8   53.8   53.825 53.825 53.85  53.875 53.875 53.9   53.9\n",
      " 53.925 53.95  53.95  53.95  53.95  53.975 54.    54.025 54.025 54.05\n",
      " 54.05  54.075 54.1   54.1   54.1   54.1   54.125 54.125 54.125 54.125\n",
      " 54.125 54.15  54.15  54.225 54.225 54.275 54.275 54.275 54.3   54.3\n",
      " 54.325 54.325 54.35  54.35  54.35  54.35  54.35  54.35  54.375 54.375\n",
      " 54.375 54.4   54.4   54.4   54.425 54.425 54.425 54.45  54.45  54.45\n",
      " 54.475 54.5   54.55  54.55  54.55  54.575 54.6   54.6   54.6   54.65\n",
      " 54.65  54.675 54.675 54.7   54.725 54.775 54.775 54.8   54.8   54.8\n",
      " 54.825 54.85  54.875 54.9   54.9   54.925 54.925 54.925 54.95  54.975\n",
      " 54.975 54.975 55.    55.    55.    55.025 55.025 55.05  55.075 55.075\n",
      " 55.1   55.1   55.125 55.125 55.125 55.125 55.175 55.175 55.175 55.175\n",
      " 55.225 55.25  55.25  55.25  55.25  55.25  55.275 55.3   55.325 55.35\n",
      " 55.35  55.35  55.375 55.4   55.4   55.4   55.4   55.425 55.425 55.45\n",
      " 55.45  55.475 55.475 55.5   55.5   55.5   55.525 55.525 55.525 55.55\n",
      " 55.55  55.575 55.575 55.575 55.575 55.575 55.575 55.575 55.6   55.6\n",
      " 55.6   55.6   55.625 55.65  55.65  55.65  55.65  55.65  55.675 55.675\n",
      " 55.675 55.7   55.725 55.725 55.75  55.775 55.775 55.8   55.8   55.8\n",
      " 55.825 55.825 55.825 55.85  55.85  55.85  55.9   55.9   55.9   55.925\n",
      " 55.925 55.95  55.95  55.95  55.95  55.95  56.05  56.05  56.05  56.075\n",
      " 56.075 56.075 56.1   56.1   56.1   56.125 56.15  56.15  56.175 56.175\n",
      " 56.175 56.2   56.225 56.225 56.25  56.25  56.275 56.275 56.3   56.325\n",
      " 56.325 56.325 56.35  56.35  56.35  56.375 56.375 56.4   56.4   56.4\n",
      " 56.4   56.4   56.425 56.45  56.5   56.5   56.5   56.525 56.525 56.55\n",
      " 56.575 56.575 56.575 56.575 56.6   56.6   56.625 56.625 56.625 56.625\n",
      " 56.625 56.65  56.675 56.7   56.7   56.7   56.725 56.725 56.75  56.75\n",
      " 56.775 56.775 56.775 56.775 56.8   56.8   56.8   56.8   56.825 56.825\n",
      " 56.825 56.85  56.9   56.9   56.9   56.925 56.925 56.925 56.95  56.95\n",
      " 56.95  56.95  56.95  56.95  56.975 56.975 57.    57.    57.    57.\n",
      " 57.    57.    57.025 57.025 57.05  57.05  57.05  57.075 57.075 57.075\n",
      " 57.075 57.075 57.075 57.1   57.1   57.1   57.1   57.125 57.125 57.15\n",
      " 57.15  57.15  57.15  57.175 57.175 57.175 57.2   57.2   57.2   57.2\n",
      " 57.225 57.225 57.25  57.25  57.25  57.25  57.275 57.3   57.3   57.3\n",
      " 57.3   57.325 57.35  57.35  57.35  57.375 57.375 57.375 57.4   57.4\n",
      " 57.4   57.425 57.425 57.425 57.425 57.45  57.45  57.475 57.475 57.5\n",
      " 57.5   57.5   57.525 57.525 57.55  57.55  57.55  57.55  57.55  57.55\n",
      " 57.6   57.6   57.6   57.625 57.65  57.675 57.675 57.675 57.7   57.725\n",
      " 57.725 57.725 57.75  57.775 57.775 57.775 57.775 57.8   57.8   57.8\n",
      " 57.8   57.8   57.8   57.825 57.825 57.825 57.825 57.875 57.875 57.875\n",
      " 57.9   57.9   57.9   57.9   57.925 57.975 57.975 57.975 57.975 57.975\n",
      " 58.    58.    58.    58.    58.025 58.05  58.05  58.075 58.075 58.1\n",
      " 58.1   58.1   58.1   58.125 58.125 58.125 58.15  58.15  58.15  58.175\n",
      " 58.175 58.175 58.2   58.2   58.2   58.2   58.2   58.2   58.2   58.225\n",
      " 58.225 58.225 58.25  58.25  58.25  58.275 58.3   58.3   58.325 58.35\n",
      " 58.35  58.35  58.35  58.35  58.35  58.35  58.375 58.375 58.4   58.4\n",
      " 58.425 58.425 58.425 58.425 58.45  58.45  58.45  58.475 58.475 58.475\n",
      " 58.475 58.5   58.525 58.525 58.525 58.525 58.525 58.575 58.575 58.575\n",
      " 58.6   58.6   58.625 58.625 58.625 58.625 58.65  58.65  58.675 58.7\n",
      " 58.725 58.725 58.725 58.75  58.75  58.75  58.75  58.75  58.775 58.8\n",
      " 58.8   58.8   58.8   58.825 58.825 58.825 58.85  58.85  58.85  58.875\n",
      " 58.9   58.9   58.9   58.925 58.95  58.975 58.975 58.975 58.975 58.975\n",
      " 58.975 58.975 59.    59.    59.    59.    59.    59.025 59.05  59.05\n",
      " 59.05  59.05  59.05  59.05  59.075 59.1   59.1   59.1   59.1   59.125\n",
      " 59.15  59.175 59.2   59.2   59.2   59.225 59.225 59.25  59.275 59.275\n",
      " 59.3   59.325 59.325 59.325 59.325 59.35  59.35  59.375 59.375 59.4\n",
      " 59.425 59.425 59.45  59.475 59.5   59.5   59.5   59.5   59.5   59.525\n",
      " 59.525 59.525 59.525 59.575 59.6   59.6   59.6   59.625 59.625 59.675\n",
      " 59.675 59.7   59.7   59.7   59.7   59.725 59.75  59.775 59.775 59.775\n",
      " 59.775 59.8   59.8   59.8   59.8   59.825 59.825 59.85  59.85  59.85\n",
      " 59.85  59.85  59.875 59.875 59.875 59.875 59.9   59.9   59.95  59.95\n",
      " 59.95  59.975 59.975 59.975 59.975 59.975 60.    60.025 60.025 60.05\n",
      " 60.05  60.05  60.05  60.075 60.075 60.075 60.125 60.125 60.15  60.175\n",
      " 60.175 60.175 60.2   60.225 60.25  60.25  60.25  60.275 60.275 60.275\n",
      " 60.275 60.3   60.3   60.3   60.325 60.325 60.325 60.375 60.375 60.4\n",
      " 60.4   60.4   60.45  60.45  60.475 60.475 60.475 60.475 60.55  60.575\n",
      " 60.6   60.625 60.675 60.675 60.675 60.675 60.675 60.7   60.7   60.725\n",
      " 60.75  60.775 60.775 60.8   60.8   60.8   60.825 60.825 60.875 60.875\n",
      " 60.925 60.95  60.95  60.95  60.95  60.95  60.975 60.975 61.    61.025\n",
      " 61.05  61.075 61.075 61.1   61.15  61.15  61.175 61.175 61.2   61.225\n",
      " 61.225 61.25  61.325 61.35  61.375 61.4   61.4   61.425 61.425 61.425\n",
      " 61.45  61.5   61.525 61.525 61.525 61.55  61.575 61.575 61.575 61.575\n",
      " 61.6   61.6   61.65  61.675 61.7   61.725 61.725 61.75  61.75  61.775\n",
      " 61.8   61.8   61.825 61.85  61.85  61.85  61.875 61.9   61.95  61.95\n",
      " 61.975 61.975 62.025 62.025 62.05  62.075 62.075 62.1   62.2   62.2\n",
      " 62.2   62.225 62.225 62.225 62.25  62.275 62.3   62.3   62.325 62.35\n",
      " 62.375 62.425 62.425 62.45  62.475 62.5   62.525 62.55  62.6   62.625\n",
      " 62.625 62.675 62.675 62.675 62.7   62.725 62.775 62.825 62.875 62.925\n",
      " 62.975 63.    63.05  63.075 63.1   63.15  63.175 63.2   63.225 63.3\n",
      " 63.325 63.35  63.425 63.425 63.425 63.475 63.55  63.575 63.6   63.75\n",
      " 63.925 64.    64.    64.125 64.175 64.225 64.225 64.25  64.275 64.3\n",
      " 64.325 64.325 64.425 64.45  64.55  64.9   64.925 65.    65.025 65.075\n",
      " 65.1   65.125 65.375 65.375 65.475 65.5   65.5   65.75  65.775 65.925\n",
      " 66.275 66.425 66.5   66.65  66.875 67.575 68.025 68.075 68.875 69.2  ]\n"
     ]
    }
   ],
   "source": [
    "#show this \n",
    "print(f\"Bootstrapped means: {bootstrapped_means}\")"
   ]
  },
  {
   "cell_type": "markdown",
   "metadata": {},
   "source": [
    "Question 9. "
   ]
  },
  {
   "cell_type": "code",
   "execution_count": 14,
   "metadata": {},
   "outputs": [
    {
     "name": "stdout",
     "output_type": "stream",
     "text": [
      "Lower bound bootstrapped: 49.64625\n"
     ]
    }
   ],
   "source": [
    "#Show the bootstrapped value representing the 2.5th percentile.\n",
    "lower_bound_bootstrapped = numpy.percentile(bootstrapped_means, 2.5)\n",
    "#print that value\n",
    "print(f\"Lower bound bootstrapped: {lower_bound_bootstrapped}\")"
   ]
  },
  {
   "cell_type": "markdown",
   "metadata": {},
   "source": [
    "Question 10."
   ]
  },
  {
   "cell_type": "code",
   "execution_count": 15,
   "metadata": {},
   "outputs": [
    {
     "name": "stdout",
     "output_type": "stream",
     "text": [
      "Upper bound bootstrapped: 64.55874999999999\n"
     ]
    }
   ],
   "source": [
    "#Show the value bootstrapped representing the 97.5th percentile.\n",
    "upper_bound_bootstrapped = numpy.percentile(bootstrapped_means, 97.5)\n",
    "#print that value\n",
    "print(f\"Upper bound bootstrapped: {upper_bound_bootstrapped}\")"
   ]
  },
  {
   "cell_type": "code",
   "execution_count": null,
   "metadata": {},
   "outputs": [],
   "source": []
  }
 ],
 "metadata": {
  "kernelspec": {
   "display_name": ".venv",
   "language": "python",
   "name": "python3"
  },
  "language_info": {
   "codemirror_mode": {
    "name": "ipython",
    "version": 3
   },
   "file_extension": ".py",
   "mimetype": "text/x-python",
   "name": "python",
   "nbconvert_exporter": "python",
   "pygments_lexer": "ipython3",
   "version": "3.12.0"
  }
 },
 "nbformat": 4,
 "nbformat_minor": 2
}
