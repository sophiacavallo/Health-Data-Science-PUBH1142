{
 "cells": [
  {
   "cell_type": "markdown",
   "id": "23ac0768",
   "metadata": {},
   "source": [
    "### **<h1 style=\"color: pink;\">Prenatal Healthcare and Outcomes</h1>**\n",
    "<hr style=\"border: 2px solid orange;\">"
   ]
  },
  {
   "cell_type": "markdown",
   "id": "4cd3491f",
   "metadata": {},
   "source": [
    "<h3 style=\"color: orange;\">Importing Packages</h1"
   ]
  },
  {
   "cell_type": "code",
   "execution_count": 1,
   "id": "1db7e2fa",
   "metadata": {},
   "outputs": [],
   "source": [
    "import numpy as np\n",
    "from scipy import stats\n",
    "import pandas as pd \n",
    "import matplotlib.pyplot as plt\n",
    "import seaborn as sns"
   ]
  },
  {
   "cell_type": "code",
   "execution_count": 2,
   "id": "a07385b0",
   "metadata": {},
   "outputs": [],
   "source": [
    "%config InlineBackend.figure_format = 'retina'\n",
    "sns.set_style('whitegrid')"
   ]
  },
  {
   "cell_type": "markdown",
   "id": "1dc5feb4",
   "metadata": {},
   "source": [
    "<hr style=\"border: 1px solid orange;\">\n",
    "<h1 style=\"color: pink;\">Introduction</h1>\n",
    "<hr style=\"border: 1px solid orange;\">"
   ]
  },
  {
   "cell_type": "markdown",
   "id": "fee88352",
   "metadata": {},
   "source": [
    "<h4 style=\"color: pink;\">Maternal and child health are determined by many factors, including </h1>"
   ]
  },
  {
   "cell_type": "markdown",
   "id": "4085c514",
   "metadata": {},
   "source": [
    "<hr style=\"border: 1px solid orange;\">\n",
    "<h1 style=\"color: pink;\">Methods</h1>\n",
    "<hr style=\"border: 1px solid orange;\">"
   ]
  },
  {
   "cell_type": "markdown",
   "id": "925847af",
   "metadata": {},
   "source": [
    "<h4 style=\"color: pink;\">Data is exported from the Heath Resources & Services Administration: Maternal & Child Health Mapping Tool, for the year range of 2020-2022. Data was available for all 50 states and territories of the United States, and the five chosen areas for export were: District of Columbia, New Jersey, New York, Texas, and Puerto Rico.</h1>"
   ]
  },
  {
   "cell_type": "markdown",
   "id": "3228bdd7",
   "metadata": {},
   "source": [
    "<hr style=\"border: 1px solid orange;\">\n",
    "<h1 style=\"color: pink;\">Results</h1>\n",
    "<hr style=\"border: 1px solid orange;\">"
   ]
  },
  {
   "cell_type": "markdown",
   "id": "7f7c7e35",
   "metadata": {},
   "source": [
    "<h3 style=\"color: orange;\">Checking Data</h1"
   ]
  },
  {
   "cell_type": "code",
   "execution_count": 3,
   "id": "8867a5fd",
   "metadata": {},
   "outputs": [],
   "source": [
    "df = pd.read_csv('HRSA fixed chart.csv')"
   ]
  },
  {
   "cell_type": "code",
   "execution_count": 4,
   "id": "19225e14",
   "metadata": {},
   "outputs": [
    {
     "data": {
      "text/plain": [
       "(417, 14)"
      ]
     },
     "execution_count": 4,
     "metadata": {},
     "output_type": "execute_result"
    }
   ],
   "source": [
    "df.shape"
   ]
  },
  {
   "cell_type": "code",
   "execution_count": 5,
   "id": "12e27dd2",
   "metadata": {},
   "outputs": [
    {
     "data": {
      "application/vnd.microsoft.datawrangler.viewer.v0+json": {
       "columns": [
        {
         "name": "index",
         "rawType": "int64",
         "type": "integer"
        },
        {
         "name": "Unnamed: 0",
         "rawType": "int64",
         "type": "integer"
        },
        {
         "name": "County FIPS Code",
         "rawType": "object",
         "type": "string"
        },
        {
         "name": "HRSA Region",
         "rawType": "object",
         "type": "string"
        },
        {
         "name": "State",
         "rawType": "object",
         "type": "string"
        },
        {
         "name": "County",
         "rawType": "object",
         "type": "string"
        },
        {
         "name": "Hospitals with Obstetric Care (#)",
         "rawType": "object",
         "type": "string"
        },
        {
         "name": "OB-GYN Provider Rate (per 100,000)",
         "rawType": "object",
         "type": "string"
        },
        {
         "name": "Infant Mortality Rate (per 1,000) 2020-2022",
         "rawType": "object",
         "type": "string"
        },
        {
         "name": "Low Birth Weight (%) 2020-2022",
         "rawType": "object",
         "type": "string"
        },
        {
         "name": "Preterm Births (%) 2020-2022",
         "rawType": "object",
         "type": "string"
        },
        {
         "name": "Prenatal Care in the 1st Trimester (%) 2020-2022",
         "rawType": "object",
         "type": "string"
        },
        {
         "name": "Population Density - Women 15-44 Years of Age",
         "rawType": "object",
         "type": "string"
        },
        {
         "name": "NCHS Urban-Rural Classification",
         "rawType": "object",
         "type": "string"
        },
        {
         "name": "NCHS Urban-Rural Code",
         "rawType": "object",
         "type": "string"
        }
       ],
       "conversionMethod": "pd.DataFrame",
       "ref": "ce54b9f3-a6a6-489b-93c8-ba5d1892c754",
       "rows": [
        [
         "0",
         "0",
         "County FIPS Code",
         "HRSA Region",
         "State",
         "County",
         "Hospitals with Obstetric Care (#)",
         "OB-GYN Provider Rate (per 100,000)",
         "Infant Mortality Rate (per 1,000) 2020-2022",
         "Low Birth Weight (%) 2020-2022",
         "Preterm Births (%) 2020-2022",
         "Prenatal Care in the 1st Trimester (%) 2020-2022",
         "Population Density - Women 15-44 Years of Age",
         "NCHS Urban-Rural Classification",
         "NCHS Urban-Rural Code"
        ],
        [
         "1",
         "1",
         "11001",
         "3",
         "District of Columbia",
         "District of Columbia",
         "4",
         "60",
         "5.3",
         "9.6",
         "10",
         "72",
         "2881.6",
         "Large central metro",
         "1"
        ],
        [
         "2",
         "2",
         "34001",
         "2",
         "New Jersey",
         "Atlantic County",
         "1",
         "13.3",
         "5.8",
         "8.4",
         "9.6",
         "75.7",
         "87.4",
         "Medium metro",
         "3"
        ],
        [
         "3",
         "3",
         "34003",
         "2",
         "New Jersey",
         "Bergen County",
         "5",
         "48.1",
         "3.1",
         "7.3",
         "9.4",
         "84.8",
         "737.2",
         "Large fringe metro",
         "2"
        ],
        [
         "4",
         "4",
         "34005",
         "2",
         "New Jersey",
         "Burlington County",
         "1",
         "19",
         "4.2",
         "7.4",
         "9",
         "81.4",
         "103.4",
         "Large fringe metro",
         "2"
        ]
       ],
       "shape": {
        "columns": 14,
        "rows": 5
       }
      },
      "text/html": [
       "<div>\n",
       "<style scoped>\n",
       "    .dataframe tbody tr th:only-of-type {\n",
       "        vertical-align: middle;\n",
       "    }\n",
       "\n",
       "    .dataframe tbody tr th {\n",
       "        vertical-align: top;\n",
       "    }\n",
       "\n",
       "    .dataframe thead th {\n",
       "        text-align: right;\n",
       "    }\n",
       "</style>\n",
       "<table border=\"1\" class=\"dataframe\">\n",
       "  <thead>\n",
       "    <tr style=\"text-align: right;\">\n",
       "      <th></th>\n",
       "      <th>Unnamed: 0</th>\n",
       "      <th>County FIPS Code</th>\n",
       "      <th>HRSA Region</th>\n",
       "      <th>State</th>\n",
       "      <th>County</th>\n",
       "      <th>Hospitals with Obstetric Care (#)</th>\n",
       "      <th>OB-GYN Provider Rate (per 100,000)</th>\n",
       "      <th>Infant Mortality Rate (per 1,000) 2020-2022</th>\n",
       "      <th>Low Birth Weight (%) 2020-2022</th>\n",
       "      <th>Preterm Births (%) 2020-2022</th>\n",
       "      <th>Prenatal Care in the 1st Trimester (%) 2020-2022</th>\n",
       "      <th>Population Density - Women 15-44 Years of Age</th>\n",
       "      <th>NCHS Urban-Rural Classification</th>\n",
       "      <th>NCHS Urban-Rural Code</th>\n",
       "    </tr>\n",
       "  </thead>\n",
       "  <tbody>\n",
       "    <tr>\n",
       "      <th>0</th>\n",
       "      <td>0</td>\n",
       "      <td>County FIPS Code</td>\n",
       "      <td>HRSA Region</td>\n",
       "      <td>State</td>\n",
       "      <td>County</td>\n",
       "      <td>Hospitals with Obstetric Care (#)</td>\n",
       "      <td>OB-GYN Provider Rate (per 100,000)</td>\n",
       "      <td>Infant Mortality Rate (per 1,000) 2020-2022</td>\n",
       "      <td>Low Birth Weight (%) 2020-2022</td>\n",
       "      <td>Preterm Births (%) 2020-2022</td>\n",
       "      <td>Prenatal Care in the 1st Trimester (%) 2020-2022</td>\n",
       "      <td>Population Density - Women 15-44 Years of Age</td>\n",
       "      <td>NCHS Urban-Rural Classification</td>\n",
       "      <td>NCHS Urban-Rural Code</td>\n",
       "    </tr>\n",
       "    <tr>\n",
       "      <th>1</th>\n",
       "      <td>1</td>\n",
       "      <td>11001</td>\n",
       "      <td>3</td>\n",
       "      <td>District of Columbia</td>\n",
       "      <td>District of Columbia</td>\n",
       "      <td>4</td>\n",
       "      <td>60</td>\n",
       "      <td>5.3</td>\n",
       "      <td>9.6</td>\n",
       "      <td>10</td>\n",
       "      <td>72</td>\n",
       "      <td>2881.6</td>\n",
       "      <td>Large central metro</td>\n",
       "      <td>1</td>\n",
       "    </tr>\n",
       "    <tr>\n",
       "      <th>2</th>\n",
       "      <td>2</td>\n",
       "      <td>34001</td>\n",
       "      <td>2</td>\n",
       "      <td>New Jersey</td>\n",
       "      <td>Atlantic County</td>\n",
       "      <td>1</td>\n",
       "      <td>13.3</td>\n",
       "      <td>5.8</td>\n",
       "      <td>8.4</td>\n",
       "      <td>9.6</td>\n",
       "      <td>75.7</td>\n",
       "      <td>87.4</td>\n",
       "      <td>Medium metro</td>\n",
       "      <td>3</td>\n",
       "    </tr>\n",
       "    <tr>\n",
       "      <th>3</th>\n",
       "      <td>3</td>\n",
       "      <td>34003</td>\n",
       "      <td>2</td>\n",
       "      <td>New Jersey</td>\n",
       "      <td>Bergen County</td>\n",
       "      <td>5</td>\n",
       "      <td>48.1</td>\n",
       "      <td>3.1</td>\n",
       "      <td>7.3</td>\n",
       "      <td>9.4</td>\n",
       "      <td>84.8</td>\n",
       "      <td>737.2</td>\n",
       "      <td>Large fringe metro</td>\n",
       "      <td>2</td>\n",
       "    </tr>\n",
       "    <tr>\n",
       "      <th>4</th>\n",
       "      <td>4</td>\n",
       "      <td>34005</td>\n",
       "      <td>2</td>\n",
       "      <td>New Jersey</td>\n",
       "      <td>Burlington County</td>\n",
       "      <td>1</td>\n",
       "      <td>19</td>\n",
       "      <td>4.2</td>\n",
       "      <td>7.4</td>\n",
       "      <td>9</td>\n",
       "      <td>81.4</td>\n",
       "      <td>103.4</td>\n",
       "      <td>Large fringe metro</td>\n",
       "      <td>2</td>\n",
       "    </tr>\n",
       "  </tbody>\n",
       "</table>\n",
       "</div>"
      ],
      "text/plain": [
       "   Unnamed: 0  County FIPS Code  HRSA Region                 State  \\\n",
       "0           0  County FIPS Code  HRSA Region                 State   \n",
       "1           1             11001            3  District of Columbia   \n",
       "2           2             34001            2            New Jersey   \n",
       "3           3             34003            2            New Jersey   \n",
       "4           4             34005            2            New Jersey   \n",
       "\n",
       "                 County  Hospitals with Obstetric Care (#)  \\\n",
       "0                County  Hospitals with Obstetric Care (#)   \n",
       "1  District of Columbia                                  4   \n",
       "2       Atlantic County                                  1   \n",
       "3         Bergen County                                  5   \n",
       "4     Burlington County                                  1   \n",
       "\n",
       "   OB-GYN Provider Rate (per 100,000)  \\\n",
       "0  OB-GYN Provider Rate (per 100,000)   \n",
       "1                                  60   \n",
       "2                                13.3   \n",
       "3                                48.1   \n",
       "4                                  19   \n",
       "\n",
       "   Infant Mortality Rate (per 1,000) 2020-2022  \\\n",
       "0  Infant Mortality Rate (per 1,000) 2020-2022   \n",
       "1                                          5.3   \n",
       "2                                          5.8   \n",
       "3                                          3.1   \n",
       "4                                          4.2   \n",
       "\n",
       "   Low Birth Weight (%) 2020-2022  Preterm Births (%) 2020-2022  \\\n",
       "0  Low Birth Weight (%) 2020-2022  Preterm Births (%) 2020-2022   \n",
       "1                             9.6                            10   \n",
       "2                             8.4                           9.6   \n",
       "3                             7.3                           9.4   \n",
       "4                             7.4                             9   \n",
       "\n",
       "   Prenatal Care in the 1st Trimester (%) 2020-2022  \\\n",
       "0  Prenatal Care in the 1st Trimester (%) 2020-2022   \n",
       "1                                                72   \n",
       "2                                              75.7   \n",
       "3                                              84.8   \n",
       "4                                              81.4   \n",
       "\n",
       "   Population Density - Women 15-44 Years of Age  \\\n",
       "0  Population Density - Women 15-44 Years of Age   \n",
       "1                                         2881.6   \n",
       "2                                           87.4   \n",
       "3                                          737.2   \n",
       "4                                          103.4   \n",
       "\n",
       "   NCHS Urban-Rural Classification  NCHS Urban-Rural Code  \n",
       "0  NCHS Urban-Rural Classification  NCHS Urban-Rural Code  \n",
       "1              Large central metro                      1  \n",
       "2                     Medium metro                      3  \n",
       "3               Large fringe metro                      2  \n",
       "4               Large fringe metro                      2  "
      ]
     },
     "execution_count": 5,
     "metadata": {},
     "output_type": "execute_result"
    }
   ],
   "source": [
    "df.head()"
   ]
  },
  {
   "cell_type": "code",
   "execution_count": 6,
   "id": "47b5418f",
   "metadata": {},
   "outputs": [
    {
     "data": {
      "application/vnd.microsoft.datawrangler.viewer.v0+json": {
       "columns": [
        {
         "name": "index",
         "rawType": "int64",
         "type": "integer"
        },
        {
         "name": "Unnamed: 0",
         "rawType": "int64",
         "type": "integer"
        },
        {
         "name": "County FIPS Code",
         "rawType": "object",
         "type": "string"
        },
        {
         "name": "HRSA Region",
         "rawType": "object",
         "type": "string"
        },
        {
         "name": "State",
         "rawType": "object",
         "type": "string"
        },
        {
         "name": "County",
         "rawType": "object",
         "type": "string"
        },
        {
         "name": "Hospitals with Obstetric Care (#)",
         "rawType": "object",
         "type": "string"
        },
        {
         "name": "OB-GYN Provider Rate (per 100,000)",
         "rawType": "object",
         "type": "string"
        },
        {
         "name": "Infant Mortality Rate (per 1,000) 2020-2022",
         "rawType": "object",
         "type": "string"
        },
        {
         "name": "Low Birth Weight (%) 2020-2022",
         "rawType": "object",
         "type": "string"
        },
        {
         "name": "Preterm Births (%) 2020-2022",
         "rawType": "object",
         "type": "string"
        },
        {
         "name": "Prenatal Care in the 1st Trimester (%) 2020-2022",
         "rawType": "object",
         "type": "string"
        },
        {
         "name": "Population Density - Women 15-44 Years of Age",
         "rawType": "object",
         "type": "string"
        },
        {
         "name": "NCHS Urban-Rural Classification",
         "rawType": "object",
         "type": "string"
        },
        {
         "name": "NCHS Urban-Rural Code",
         "rawType": "object",
         "type": "string"
        }
       ],
       "conversionMethod": "pd.DataFrame",
       "ref": "f401a05f-b937-4c65-a6d6-62aa6f39bbc5",
       "rows": [
        [
         "1",
         "1",
         "11001",
         "3",
         "District of Columbia",
         "District of Columbia",
         "4",
         "60",
         "5.3",
         "9.6",
         "10",
         "72",
         "2881.6",
         "Large central metro",
         "1"
        ],
        [
         "2",
         "2",
         "34001",
         "2",
         "New Jersey",
         "Atlantic County",
         "1",
         "13.3",
         "5.8",
         "8.4",
         "9.6",
         "75.7",
         "87.4",
         "Medium metro",
         "3"
        ],
        [
         "3",
         "3",
         "34003",
         "2",
         "New Jersey",
         "Bergen County",
         "5",
         "48.1",
         "3.1",
         "7.3",
         "9.4",
         "84.8",
         "737.2",
         "Large fringe metro",
         "2"
        ],
        [
         "4",
         "4",
         "34005",
         "2",
         "New Jersey",
         "Burlington County",
         "1",
         "19",
         "4.2",
         "7.4",
         "9",
         "81.4",
         "103.4",
         "Large fringe metro",
         "2"
        ],
        [
         "5",
         "5",
         "34007",
         "2",
         "New Jersey",
         "Camden County",
         "4",
         "29.7",
         "5.7",
         "9",
         "10.2",
         "77.7",
         "459",
         "Large fringe metro",
         "2"
        ]
       ],
       "shape": {
        "columns": 14,
        "rows": 5
       }
      },
      "text/html": [
       "<div>\n",
       "<style scoped>\n",
       "    .dataframe tbody tr th:only-of-type {\n",
       "        vertical-align: middle;\n",
       "    }\n",
       "\n",
       "    .dataframe tbody tr th {\n",
       "        vertical-align: top;\n",
       "    }\n",
       "\n",
       "    .dataframe thead th {\n",
       "        text-align: right;\n",
       "    }\n",
       "</style>\n",
       "<table border=\"1\" class=\"dataframe\">\n",
       "  <thead>\n",
       "    <tr style=\"text-align: right;\">\n",
       "      <th></th>\n",
       "      <th>Unnamed: 0</th>\n",
       "      <th>County FIPS Code</th>\n",
       "      <th>HRSA Region</th>\n",
       "      <th>State</th>\n",
       "      <th>County</th>\n",
       "      <th>Hospitals with Obstetric Care (#)</th>\n",
       "      <th>OB-GYN Provider Rate (per 100,000)</th>\n",
       "      <th>Infant Mortality Rate (per 1,000) 2020-2022</th>\n",
       "      <th>Low Birth Weight (%) 2020-2022</th>\n",
       "      <th>Preterm Births (%) 2020-2022</th>\n",
       "      <th>Prenatal Care in the 1st Trimester (%) 2020-2022</th>\n",
       "      <th>Population Density - Women 15-44 Years of Age</th>\n",
       "      <th>NCHS Urban-Rural Classification</th>\n",
       "      <th>NCHS Urban-Rural Code</th>\n",
       "    </tr>\n",
       "  </thead>\n",
       "  <tbody>\n",
       "    <tr>\n",
       "      <th>1</th>\n",
       "      <td>1</td>\n",
       "      <td>11001</td>\n",
       "      <td>3</td>\n",
       "      <td>District of Columbia</td>\n",
       "      <td>District of Columbia</td>\n",
       "      <td>4</td>\n",
       "      <td>60</td>\n",
       "      <td>5.3</td>\n",
       "      <td>9.6</td>\n",
       "      <td>10</td>\n",
       "      <td>72</td>\n",
       "      <td>2881.6</td>\n",
       "      <td>Large central metro</td>\n",
       "      <td>1</td>\n",
       "    </tr>\n",
       "    <tr>\n",
       "      <th>2</th>\n",
       "      <td>2</td>\n",
       "      <td>34001</td>\n",
       "      <td>2</td>\n",
       "      <td>New Jersey</td>\n",
       "      <td>Atlantic County</td>\n",
       "      <td>1</td>\n",
       "      <td>13.3</td>\n",
       "      <td>5.8</td>\n",
       "      <td>8.4</td>\n",
       "      <td>9.6</td>\n",
       "      <td>75.7</td>\n",
       "      <td>87.4</td>\n",
       "      <td>Medium metro</td>\n",
       "      <td>3</td>\n",
       "    </tr>\n",
       "    <tr>\n",
       "      <th>3</th>\n",
       "      <td>3</td>\n",
       "      <td>34003</td>\n",
       "      <td>2</td>\n",
       "      <td>New Jersey</td>\n",
       "      <td>Bergen County</td>\n",
       "      <td>5</td>\n",
       "      <td>48.1</td>\n",
       "      <td>3.1</td>\n",
       "      <td>7.3</td>\n",
       "      <td>9.4</td>\n",
       "      <td>84.8</td>\n",
       "      <td>737.2</td>\n",
       "      <td>Large fringe metro</td>\n",
       "      <td>2</td>\n",
       "    </tr>\n",
       "    <tr>\n",
       "      <th>4</th>\n",
       "      <td>4</td>\n",
       "      <td>34005</td>\n",
       "      <td>2</td>\n",
       "      <td>New Jersey</td>\n",
       "      <td>Burlington County</td>\n",
       "      <td>1</td>\n",
       "      <td>19</td>\n",
       "      <td>4.2</td>\n",
       "      <td>7.4</td>\n",
       "      <td>9</td>\n",
       "      <td>81.4</td>\n",
       "      <td>103.4</td>\n",
       "      <td>Large fringe metro</td>\n",
       "      <td>2</td>\n",
       "    </tr>\n",
       "    <tr>\n",
       "      <th>5</th>\n",
       "      <td>5</td>\n",
       "      <td>34007</td>\n",
       "      <td>2</td>\n",
       "      <td>New Jersey</td>\n",
       "      <td>Camden County</td>\n",
       "      <td>4</td>\n",
       "      <td>29.7</td>\n",
       "      <td>5.7</td>\n",
       "      <td>9</td>\n",
       "      <td>10.2</td>\n",
       "      <td>77.7</td>\n",
       "      <td>459</td>\n",
       "      <td>Large fringe metro</td>\n",
       "      <td>2</td>\n",
       "    </tr>\n",
       "  </tbody>\n",
       "</table>\n",
       "</div>"
      ],
      "text/plain": [
       "   Unnamed: 0 County FIPS Code HRSA Region                 State  \\\n",
       "1           1            11001           3  District of Columbia   \n",
       "2           2            34001           2            New Jersey   \n",
       "3           3            34003           2            New Jersey   \n",
       "4           4            34005           2            New Jersey   \n",
       "5           5            34007           2            New Jersey   \n",
       "\n",
       "                 County Hospitals with Obstetric Care (#)  \\\n",
       "1  District of Columbia                                 4   \n",
       "2       Atlantic County                                 1   \n",
       "3         Bergen County                                 5   \n",
       "4     Burlington County                                 1   \n",
       "5         Camden County                                 4   \n",
       "\n",
       "  OB-GYN Provider Rate (per 100,000)  \\\n",
       "1                                 60   \n",
       "2                               13.3   \n",
       "3                               48.1   \n",
       "4                                 19   \n",
       "5                               29.7   \n",
       "\n",
       "  Infant Mortality Rate (per 1,000) 2020-2022 Low Birth Weight (%) 2020-2022  \\\n",
       "1                                         5.3                            9.6   \n",
       "2                                         5.8                            8.4   \n",
       "3                                         3.1                            7.3   \n",
       "4                                         4.2                            7.4   \n",
       "5                                         5.7                              9   \n",
       "\n",
       "  Preterm Births (%) 2020-2022  \\\n",
       "1                           10   \n",
       "2                          9.6   \n",
       "3                          9.4   \n",
       "4                            9   \n",
       "5                         10.2   \n",
       "\n",
       "  Prenatal Care in the 1st Trimester (%) 2020-2022  \\\n",
       "1                                               72   \n",
       "2                                             75.7   \n",
       "3                                             84.8   \n",
       "4                                             81.4   \n",
       "5                                             77.7   \n",
       "\n",
       "  Population Density - Women 15-44 Years of Age  \\\n",
       "1                                        2881.6   \n",
       "2                                          87.4   \n",
       "3                                         737.2   \n",
       "4                                         103.4   \n",
       "5                                           459   \n",
       "\n",
       "  NCHS Urban-Rural Classification NCHS Urban-Rural Code  \n",
       "1             Large central metro                     1  \n",
       "2                    Medium metro                     3  \n",
       "3              Large fringe metro                     2  \n",
       "4              Large fringe metro                     2  \n",
       "5              Large fringe metro                     2  "
      ]
     },
     "execution_count": 6,
     "metadata": {},
     "output_type": "execute_result"
    }
   ],
   "source": [
    "#can you get rid of the first row?\n",
    "df = df.iloc[1:]\n",
    "df.head()"
   ]
  },
  {
   "cell_type": "code",
   "execution_count": 7,
   "id": "d90a97b1",
   "metadata": {},
   "outputs": [
    {
     "data": {
      "application/vnd.microsoft.datawrangler.viewer.v0+json": {
       "columns": [
        {
         "name": "index",
         "rawType": "int64",
         "type": "integer"
        },
        {
         "name": "County FIPS Code",
         "rawType": "object",
         "type": "string"
        },
        {
         "name": "HRSA Region",
         "rawType": "object",
         "type": "string"
        },
        {
         "name": "State",
         "rawType": "object",
         "type": "string"
        },
        {
         "name": "County",
         "rawType": "object",
         "type": "string"
        },
        {
         "name": "Hospitals with Obstetric Care (#)",
         "rawType": "object",
         "type": "string"
        },
        {
         "name": "OB-GYN Provider Rate (per 100,000)",
         "rawType": "object",
         "type": "string"
        },
        {
         "name": "Infant Mortality Rate (per 1,000) 2020-2022",
         "rawType": "object",
         "type": "string"
        },
        {
         "name": "Low Birth Weight (%) 2020-2022",
         "rawType": "object",
         "type": "string"
        },
        {
         "name": "Preterm Births (%) 2020-2022",
         "rawType": "object",
         "type": "string"
        },
        {
         "name": "Prenatal Care in the 1st Trimester (%) 2020-2022",
         "rawType": "object",
         "type": "string"
        },
        {
         "name": "Population Density - Women 15-44 Years of Age",
         "rawType": "object",
         "type": "string"
        },
        {
         "name": "NCHS Urban-Rural Classification",
         "rawType": "object",
         "type": "string"
        },
        {
         "name": "NCHS Urban-Rural Code",
         "rawType": "object",
         "type": "string"
        }
       ],
       "conversionMethod": "pd.DataFrame",
       "ref": "51509488-bbcf-4feb-95b2-4e2a77635b3d",
       "rows": [
        [
         "1",
         "11001",
         "3",
         "District of Columbia",
         "District of Columbia",
         "4",
         "60",
         "5.3",
         "9.6",
         "10",
         "72",
         "2881.6",
         "Large central metro",
         "1"
        ],
        [
         "2",
         "34001",
         "2",
         "New Jersey",
         "Atlantic County",
         "1",
         "13.3",
         "5.8",
         "8.4",
         "9.6",
         "75.7",
         "87.4",
         "Medium metro",
         "3"
        ],
        [
         "3",
         "34003",
         "2",
         "New Jersey",
         "Bergen County",
         "5",
         "48.1",
         "3.1",
         "7.3",
         "9.4",
         "84.8",
         "737.2",
         "Large fringe metro",
         "2"
        ],
        [
         "4",
         "34005",
         "2",
         "New Jersey",
         "Burlington County",
         "1",
         "19",
         "4.2",
         "7.4",
         "9",
         "81.4",
         "103.4",
         "Large fringe metro",
         "2"
        ],
        [
         "5",
         "34007",
         "2",
         "New Jersey",
         "Camden County",
         "4",
         "29.7",
         "5.7",
         "9",
         "10.2",
         "77.7",
         "459",
         "Large fringe metro",
         "2"
        ]
       ],
       "shape": {
        "columns": 13,
        "rows": 5
       }
      },
      "text/html": [
       "<div>\n",
       "<style scoped>\n",
       "    .dataframe tbody tr th:only-of-type {\n",
       "        vertical-align: middle;\n",
       "    }\n",
       "\n",
       "    .dataframe tbody tr th {\n",
       "        vertical-align: top;\n",
       "    }\n",
       "\n",
       "    .dataframe thead th {\n",
       "        text-align: right;\n",
       "    }\n",
       "</style>\n",
       "<table border=\"1\" class=\"dataframe\">\n",
       "  <thead>\n",
       "    <tr style=\"text-align: right;\">\n",
       "      <th></th>\n",
       "      <th>County FIPS Code</th>\n",
       "      <th>HRSA Region</th>\n",
       "      <th>State</th>\n",
       "      <th>County</th>\n",
       "      <th>Hospitals with Obstetric Care (#)</th>\n",
       "      <th>OB-GYN Provider Rate (per 100,000)</th>\n",
       "      <th>Infant Mortality Rate (per 1,000) 2020-2022</th>\n",
       "      <th>Low Birth Weight (%) 2020-2022</th>\n",
       "      <th>Preterm Births (%) 2020-2022</th>\n",
       "      <th>Prenatal Care in the 1st Trimester (%) 2020-2022</th>\n",
       "      <th>Population Density - Women 15-44 Years of Age</th>\n",
       "      <th>NCHS Urban-Rural Classification</th>\n",
       "      <th>NCHS Urban-Rural Code</th>\n",
       "    </tr>\n",
       "  </thead>\n",
       "  <tbody>\n",
       "    <tr>\n",
       "      <th>1</th>\n",
       "      <td>11001</td>\n",
       "      <td>3</td>\n",
       "      <td>District of Columbia</td>\n",
       "      <td>District of Columbia</td>\n",
       "      <td>4</td>\n",
       "      <td>60</td>\n",
       "      <td>5.3</td>\n",
       "      <td>9.6</td>\n",
       "      <td>10</td>\n",
       "      <td>72</td>\n",
       "      <td>2881.6</td>\n",
       "      <td>Large central metro</td>\n",
       "      <td>1</td>\n",
       "    </tr>\n",
       "    <tr>\n",
       "      <th>2</th>\n",
       "      <td>34001</td>\n",
       "      <td>2</td>\n",
       "      <td>New Jersey</td>\n",
       "      <td>Atlantic County</td>\n",
       "      <td>1</td>\n",
       "      <td>13.3</td>\n",
       "      <td>5.8</td>\n",
       "      <td>8.4</td>\n",
       "      <td>9.6</td>\n",
       "      <td>75.7</td>\n",
       "      <td>87.4</td>\n",
       "      <td>Medium metro</td>\n",
       "      <td>3</td>\n",
       "    </tr>\n",
       "    <tr>\n",
       "      <th>3</th>\n",
       "      <td>34003</td>\n",
       "      <td>2</td>\n",
       "      <td>New Jersey</td>\n",
       "      <td>Bergen County</td>\n",
       "      <td>5</td>\n",
       "      <td>48.1</td>\n",
       "      <td>3.1</td>\n",
       "      <td>7.3</td>\n",
       "      <td>9.4</td>\n",
       "      <td>84.8</td>\n",
       "      <td>737.2</td>\n",
       "      <td>Large fringe metro</td>\n",
       "      <td>2</td>\n",
       "    </tr>\n",
       "    <tr>\n",
       "      <th>4</th>\n",
       "      <td>34005</td>\n",
       "      <td>2</td>\n",
       "      <td>New Jersey</td>\n",
       "      <td>Burlington County</td>\n",
       "      <td>1</td>\n",
       "      <td>19</td>\n",
       "      <td>4.2</td>\n",
       "      <td>7.4</td>\n",
       "      <td>9</td>\n",
       "      <td>81.4</td>\n",
       "      <td>103.4</td>\n",
       "      <td>Large fringe metro</td>\n",
       "      <td>2</td>\n",
       "    </tr>\n",
       "    <tr>\n",
       "      <th>5</th>\n",
       "      <td>34007</td>\n",
       "      <td>2</td>\n",
       "      <td>New Jersey</td>\n",
       "      <td>Camden County</td>\n",
       "      <td>4</td>\n",
       "      <td>29.7</td>\n",
       "      <td>5.7</td>\n",
       "      <td>9</td>\n",
       "      <td>10.2</td>\n",
       "      <td>77.7</td>\n",
       "      <td>459</td>\n",
       "      <td>Large fringe metro</td>\n",
       "      <td>2</td>\n",
       "    </tr>\n",
       "  </tbody>\n",
       "</table>\n",
       "</div>"
      ],
      "text/plain": [
       "  County FIPS Code HRSA Region                 State                County  \\\n",
       "1            11001           3  District of Columbia  District of Columbia   \n",
       "2            34001           2            New Jersey       Atlantic County   \n",
       "3            34003           2            New Jersey         Bergen County   \n",
       "4            34005           2            New Jersey     Burlington County   \n",
       "5            34007           2            New Jersey         Camden County   \n",
       "\n",
       "  Hospitals with Obstetric Care (#) OB-GYN Provider Rate (per 100,000)  \\\n",
       "1                                 4                                 60   \n",
       "2                                 1                               13.3   \n",
       "3                                 5                               48.1   \n",
       "4                                 1                                 19   \n",
       "5                                 4                               29.7   \n",
       "\n",
       "  Infant Mortality Rate (per 1,000) 2020-2022 Low Birth Weight (%) 2020-2022  \\\n",
       "1                                         5.3                            9.6   \n",
       "2                                         5.8                            8.4   \n",
       "3                                         3.1                            7.3   \n",
       "4                                         4.2                            7.4   \n",
       "5                                         5.7                              9   \n",
       "\n",
       "  Preterm Births (%) 2020-2022  \\\n",
       "1                           10   \n",
       "2                          9.6   \n",
       "3                          9.4   \n",
       "4                            9   \n",
       "5                         10.2   \n",
       "\n",
       "  Prenatal Care in the 1st Trimester (%) 2020-2022  \\\n",
       "1                                               72   \n",
       "2                                             75.7   \n",
       "3                                             84.8   \n",
       "4                                             81.4   \n",
       "5                                             77.7   \n",
       "\n",
       "  Population Density - Women 15-44 Years of Age  \\\n",
       "1                                        2881.6   \n",
       "2                                          87.4   \n",
       "3                                         737.2   \n",
       "4                                         103.4   \n",
       "5                                           459   \n",
       "\n",
       "  NCHS Urban-Rural Classification NCHS Urban-Rural Code  \n",
       "1             Large central metro                     1  \n",
       "2                    Medium metro                     3  \n",
       "3              Large fringe metro                     2  \n",
       "4              Large fringe metro                     2  \n",
       "5              Large fringe metro                     2  "
      ]
     },
     "execution_count": 7,
     "metadata": {},
     "output_type": "execute_result"
    }
   ],
   "source": [
    "#can you get rid of the first column?\n",
    "df = df.iloc[:, 1:]\n",
    "df.head()"
   ]
  },
  {
   "cell_type": "code",
   "execution_count": 8,
   "id": "95fdbc1c",
   "metadata": {},
   "outputs": [],
   "source": [
    "df.to_csv('HRSA data 2.csv')"
   ]
  },
  {
   "cell_type": "code",
   "execution_count": 9,
   "id": "2b218ef1",
   "metadata": {},
   "outputs": [
    {
     "data": {
      "text/plain": [
       "array(['District of Columbia', 'New Jersey', 'New York', 'Texas',\n",
       "       'Puerto Rico'], dtype=object)"
      ]
     },
     "execution_count": 9,
     "metadata": {},
     "output_type": "execute_result"
    }
   ],
   "source": [
    "df['State'].unique()"
   ]
  },
  {
   "cell_type": "code",
   "execution_count": 10,
   "id": "c8c647dc",
   "metadata": {},
   "outputs": [
    {
     "data": {
      "text/plain": [
       "State\n",
       "District of Columbia    5.300000\n",
       "New Jersey              4.190476\n",
       "New York                5.082258\n",
       "Puerto Rico             7.452055\n",
       "Texas                   5.865939\n",
       "Name: Infant Mortality Rate (per 1,000) 2020-2022, dtype: float64"
      ]
     },
     "execution_count": 10,
     "metadata": {},
     "output_type": "execute_result"
    }
   ],
   "source": [
    "# Convert the 'Infant Mortality Rate (per 1,000) 2020-2022' column to numeric\n",
    "df['Infant Mortality Rate (per 1,000) 2020-2022'] = pd.to_numeric(df['Infant Mortality Rate (per 1,000) 2020-2022'], errors='coerce')\n",
    "\n",
    "# Calculate the mean of the infant mortality rate separated by state\n",
    "df.groupby('State')['Infant Mortality Rate (per 1,000) 2020-2022'].mean()"
   ]
  },
  {
   "cell_type": "code",
   "execution_count": 11,
   "id": "0b9c7962",
   "metadata": {},
   "outputs": [
    {
     "data": {
      "application/vnd.microsoft.datawrangler.viewer.v0+json": {
       "columns": [
        {
         "name": "index",
         "rawType": "int64",
         "type": "integer"
        },
        {
         "name": "State",
         "rawType": "object",
         "type": "string"
        },
        {
         "name": "Infant Mortality Rate (per 1,000) 2020-2022",
         "rawType": "float64",
         "type": "float"
        }
       ],
       "conversionMethod": "pd.DataFrame",
       "ref": "435a25a6-2376-4b85-b730-3e52c19a7e35",
       "rows": [
        [
         "3",
         "Puerto Rico",
         "7.4520547945205475"
        ],
        [
         "4",
         "Texas",
         "5.865938864628821"
        ],
        [
         "0",
         "District of Columbia",
         "5.3"
        ],
        [
         "2",
         "New York",
         "5.08225806451613"
        ],
        [
         "1",
         "New Jersey",
         "4.190476190476191"
        ]
       ],
       "shape": {
        "columns": 2,
        "rows": 5
       }
      },
      "text/html": [
       "<div>\n",
       "<style scoped>\n",
       "    .dataframe tbody tr th:only-of-type {\n",
       "        vertical-align: middle;\n",
       "    }\n",
       "\n",
       "    .dataframe tbody tr th {\n",
       "        vertical-align: top;\n",
       "    }\n",
       "\n",
       "    .dataframe thead th {\n",
       "        text-align: right;\n",
       "    }\n",
       "</style>\n",
       "<table border=\"1\" class=\"dataframe\">\n",
       "  <thead>\n",
       "    <tr style=\"text-align: right;\">\n",
       "      <th></th>\n",
       "      <th>State</th>\n",
       "      <th>Infant Mortality Rate (per 1,000) 2020-2022</th>\n",
       "    </tr>\n",
       "  </thead>\n",
       "  <tbody>\n",
       "    <tr>\n",
       "      <th>3</th>\n",
       "      <td>Puerto Rico</td>\n",
       "      <td>7.452055</td>\n",
       "    </tr>\n",
       "    <tr>\n",
       "      <th>4</th>\n",
       "      <td>Texas</td>\n",
       "      <td>5.865939</td>\n",
       "    </tr>\n",
       "    <tr>\n",
       "      <th>0</th>\n",
       "      <td>District of Columbia</td>\n",
       "      <td>5.300000</td>\n",
       "    </tr>\n",
       "    <tr>\n",
       "      <th>2</th>\n",
       "      <td>New York</td>\n",
       "      <td>5.082258</td>\n",
       "    </tr>\n",
       "    <tr>\n",
       "      <th>1</th>\n",
       "      <td>New Jersey</td>\n",
       "      <td>4.190476</td>\n",
       "    </tr>\n",
       "  </tbody>\n",
       "</table>\n",
       "</div>"
      ],
      "text/plain": [
       "                  State  Infant Mortality Rate (per 1,000) 2020-2022\n",
       "3           Puerto Rico                                     7.452055\n",
       "4                 Texas                                     5.865939\n",
       "0  District of Columbia                                     5.300000\n",
       "2              New York                                     5.082258\n",
       "1            New Jersey                                     4.190476"
      ]
     },
     "execution_count": 11,
     "metadata": {},
     "output_type": "execute_result"
    }
   ],
   "source": [
    "# can you make this into a table\n",
    "df_grouped = df.groupby('State')['Infant Mortality Rate (per 1,000) 2020-2022'].mean().reset_index()\n",
    "df_grouped.columns = ['State', 'Infant Mortality Rate (per 1,000) 2020-2022']\n",
    "df_grouped = df_grouped.sort_values(by='Infant Mortality Rate (per 1,000) 2020-2022', ascending=False)\n",
    "df_grouped"
   ]
  },
  {
   "cell_type": "code",
   "execution_count": 12,
   "id": "86e5a07d",
   "metadata": {},
   "outputs": [
    {
     "data": {
      "text/plain": [
       "count    416.000000\n",
       "mean       0.834135\n",
       "std        1.739378\n",
       "min        0.000000\n",
       "25%        0.000000\n",
       "50%        0.000000\n",
       "75%        1.000000\n",
       "max       18.000000\n",
       "Name: Hospitals with Obstetric Care (#), dtype: float64"
      ]
     },
     "execution_count": 12,
     "metadata": {},
     "output_type": "execute_result"
    }
   ],
   "source": [
    "# Convert the 'Hospitals with Obstetric Care (#)' column to numeric and get summary statistics\n",
    "df['Hospitals with Obstetric Care (#)'] = pd.to_numeric(df['Hospitals with Obstetric Care (#)'], errors='coerce')\n",
    "df['Hospitals with Obstetric Care (#)'].describe()"
   ]
  },
  {
   "cell_type": "code",
   "execution_count": 13,
   "id": "cc550863",
   "metadata": {},
   "outputs": [
    {
     "data": {
      "application/vnd.microsoft.datawrangler.viewer.v0+json": {
       "columns": [
        {
         "name": "index",
         "rawType": "int64",
         "type": "integer"
        },
        {
         "name": "State",
         "rawType": "object",
         "type": "string"
        },
        {
         "name": "count",
         "rawType": "float64",
         "type": "float"
        },
        {
         "name": "mean",
         "rawType": "float64",
         "type": "float"
        },
        {
         "name": "std",
         "rawType": "float64",
         "type": "float"
        },
        {
         "name": "min",
         "rawType": "float64",
         "type": "float"
        },
        {
         "name": "25%",
         "rawType": "float64",
         "type": "float"
        },
        {
         "name": "50%",
         "rawType": "float64",
         "type": "float"
        },
        {
         "name": "75%",
         "rawType": "float64",
         "type": "float"
        },
        {
         "name": "max",
         "rawType": "float64",
         "type": "float"
        }
       ],
       "conversionMethod": "pd.DataFrame",
       "ref": "62aa9c26-f1f9-4131-81cc-b7fac8009050",
       "rows": [
        [
         "0",
         "District of Columbia",
         "1.0",
         "4.0",
         null,
         "4.0",
         "4.0",
         "4.0",
         "4.0",
         "4.0"
        ],
        [
         "1",
         "New Jersey",
         "21.0",
         "2.0",
         "1.5811388300841898",
         "0.0",
         "1.0",
         "1.0",
         "3.0",
         "5.0"
        ],
        [
         "2",
         "New York",
         "62.0",
         "1.532258064516129",
         "1.964585985963804",
         "0.0",
         "0.0",
         "1.0",
         "2.0",
         "8.0"
        ],
        [
         "4",
         "Texas",
         "254.0",
         "0.7874015748031497",
         "1.833504263843176",
         "0.0",
         "0.0",
         "0.0",
         "1.0",
         "18.0"
        ],
        [
         "3",
         "Puerto Rico",
         "78.0",
         "0.07692307692307693",
         "0.2681940937606046",
         "0.0",
         "0.0",
         "0.0",
         "0.0",
         "1.0"
        ]
       ],
       "shape": {
        "columns": 9,
        "rows": 5
       }
      },
      "text/html": [
       "<div>\n",
       "<style scoped>\n",
       "    .dataframe tbody tr th:only-of-type {\n",
       "        vertical-align: middle;\n",
       "    }\n",
       "\n",
       "    .dataframe tbody tr th {\n",
       "        vertical-align: top;\n",
       "    }\n",
       "\n",
       "    .dataframe thead th {\n",
       "        text-align: right;\n",
       "    }\n",
       "</style>\n",
       "<table border=\"1\" class=\"dataframe\">\n",
       "  <thead>\n",
       "    <tr style=\"text-align: right;\">\n",
       "      <th></th>\n",
       "      <th>State</th>\n",
       "      <th>count</th>\n",
       "      <th>mean</th>\n",
       "      <th>std</th>\n",
       "      <th>min</th>\n",
       "      <th>25%</th>\n",
       "      <th>50%</th>\n",
       "      <th>75%</th>\n",
       "      <th>max</th>\n",
       "    </tr>\n",
       "  </thead>\n",
       "  <tbody>\n",
       "    <tr>\n",
       "      <th>0</th>\n",
       "      <td>District of Columbia</td>\n",
       "      <td>1.0</td>\n",
       "      <td>4.000000</td>\n",
       "      <td>NaN</td>\n",
       "      <td>4.0</td>\n",
       "      <td>4.0</td>\n",
       "      <td>4.0</td>\n",
       "      <td>4.0</td>\n",
       "      <td>4.0</td>\n",
       "    </tr>\n",
       "    <tr>\n",
       "      <th>1</th>\n",
       "      <td>New Jersey</td>\n",
       "      <td>21.0</td>\n",
       "      <td>2.000000</td>\n",
       "      <td>1.581139</td>\n",
       "      <td>0.0</td>\n",
       "      <td>1.0</td>\n",
       "      <td>1.0</td>\n",
       "      <td>3.0</td>\n",
       "      <td>5.0</td>\n",
       "    </tr>\n",
       "    <tr>\n",
       "      <th>2</th>\n",
       "      <td>New York</td>\n",
       "      <td>62.0</td>\n",
       "      <td>1.532258</td>\n",
       "      <td>1.964586</td>\n",
       "      <td>0.0</td>\n",
       "      <td>0.0</td>\n",
       "      <td>1.0</td>\n",
       "      <td>2.0</td>\n",
       "      <td>8.0</td>\n",
       "    </tr>\n",
       "    <tr>\n",
       "      <th>4</th>\n",
       "      <td>Texas</td>\n",
       "      <td>254.0</td>\n",
       "      <td>0.787402</td>\n",
       "      <td>1.833504</td>\n",
       "      <td>0.0</td>\n",
       "      <td>0.0</td>\n",
       "      <td>0.0</td>\n",
       "      <td>1.0</td>\n",
       "      <td>18.0</td>\n",
       "    </tr>\n",
       "    <tr>\n",
       "      <th>3</th>\n",
       "      <td>Puerto Rico</td>\n",
       "      <td>78.0</td>\n",
       "      <td>0.076923</td>\n",
       "      <td>0.268194</td>\n",
       "      <td>0.0</td>\n",
       "      <td>0.0</td>\n",
       "      <td>0.0</td>\n",
       "      <td>0.0</td>\n",
       "      <td>1.0</td>\n",
       "    </tr>\n",
       "  </tbody>\n",
       "</table>\n",
       "</div>"
      ],
      "text/plain": [
       "                  State  count      mean       std  min  25%  50%  75%   max\n",
       "0  District of Columbia    1.0  4.000000       NaN  4.0  4.0  4.0  4.0   4.0\n",
       "1            New Jersey   21.0  2.000000  1.581139  0.0  1.0  1.0  3.0   5.0\n",
       "2              New York   62.0  1.532258  1.964586  0.0  0.0  1.0  2.0   8.0\n",
       "4                 Texas  254.0  0.787402  1.833504  0.0  0.0  0.0  1.0  18.0\n",
       "3           Puerto Rico   78.0  0.076923  0.268194  0.0  0.0  0.0  0.0   1.0"
      ]
     },
     "execution_count": 13,
     "metadata": {},
     "output_type": "execute_result"
    }
   ],
   "source": [
    "# can you give summary statistics for the 'Hospitals with Obstetric Care (#)' column seperated by state\n",
    "df_grouped_hospitals = df.groupby('State')['Hospitals with Obstetric Care (#)'].describe().reset_index()\n",
    "df_grouped_hospitals.columns = ['State', 'count', 'mean', 'std', 'min', '25%', '50%', '75%', 'max']\n",
    "df_grouped_hospitals = df_grouped_hospitals.sort_values(by='mean', ascending=False)\n",
    "df_grouped_hospitals"
   ]
  },
  {
   "cell_type": "code",
   "execution_count": 14,
   "id": "c3a352bb",
   "metadata": {},
   "outputs": [
    {
     "data": {
      "image/png": "[encoded data removed]",
      "text/plain": [
       "<Figure size 1000x600 with 1 Axes>"
      ]
     },
     "metadata": {
      "image/png": {
       "height": 543,
       "width": 846
      }
     },
     "output_type": "display_data"
    }
   ],
   "source": [
    "# create a histogram of the 'Hospitals with Obstetric Care (#)' column\n",
    "plt.figure(figsize=(10, 6))\n",
    "sns.histplot(df['Hospitals with Obstetric Care (#)'], bins=20, kde=True)\n",
    "plt.title('Distribution of Hospitals with Obstetric Care')\n",
    "plt.xlabel('Hospitals with Obstetric Care (#)')\n",
    "plt.ylabel('Frequency')\n",
    "plt.show()"
   ]
  },
  {
   "cell_type": "code",
   "execution_count": 15,
   "id": "37b05245",
   "metadata": {},
   "outputs": [
    {
     "name": "stderr",
     "output_type": "stream",
     "text": [
      "/var/folders/q3/68365r8n1cv71829983lgcl00000gn/T/ipykernel_41198/2443179233.py:7: UserWarning: No artists with labels found to put in legend.  Note that artists whose label start with an underscore are ignored when legend() is called with no argument.\n",
      "  plt.legend(title='State', bbox_to_anchor=(1.05, 1), loc='upper left')\n"
     ]
    },
    {
     "data": {
      "image/png": "[encoded data removed]",
      "text/plain": [
       "<Figure size 1000x600 with 1 Axes>"
      ]
     },
     "metadata": {
      "image/png": {
       "height": 543,
       "width": 935
      }
     },
     "output_type": "display_data"
    }
   ],
   "source": [
    "# create a histogram of the 'hospitals with obstetric care' column separated by state\n",
    "plt.figure(figsize=(10, 6))\n",
    "sns.histplot(data=df, x='Hospitals with Obstetric Care (#)', hue='State', bins=20, kde=True)\n",
    "plt.title('Distribution of Hospitals with Obstetric Care by State')\n",
    "plt.xlabel('Hospitals with Obstetric Care (#)')\n",
    "plt.ylabel('Frequency')\n",
    "plt.legend(title='State', bbox_to_anchor=(1.05, 1), loc='upper left')\n",
    "plt.show()"
   ]
  },
  {
   "cell_type": "code",
   "execution_count": 17,
   "id": "6b0617c1",
   "metadata": {},
   "outputs": [
    {
     "data": {
      "text/plain": [
       "count    416.000000\n",
       "mean      10.607212\n",
       "std       14.433008\n",
       "min        0.000000\n",
       "25%        0.000000\n",
       "50%        5.250000\n",
       "75%       17.625000\n",
       "max       87.800000\n",
       "Name: OB-GYN Provider Rate (per 100,000), dtype: float64"
      ]
     },
     "execution_count": 17,
     "metadata": {},
     "output_type": "execute_result"
    }
   ],
   "source": [
    "#can you convert ob-gyn provider rate to numeric and get summary statistics\n",
    "df['OB-GYN Provider Rate (per 100,000)'] = pd.to_numeric(df['OB-GYN Provider Rate (per 100,000)'], errors='coerce')\n",
    "df['OB-GYN Provider Rate (per 100,000)'].describe()"
   ]
  },
  {
   "cell_type": "code",
   "execution_count": 18,
   "id": "c026fa06",
   "metadata": {},
   "outputs": [
    {
     "data": {
      "application/vnd.microsoft.datawrangler.viewer.v0+json": {
       "columns": [
        {
         "name": "index",
         "rawType": "int64",
         "type": "integer"
        },
        {
         "name": "State",
         "rawType": "object",
         "type": "string"
        },
        {
         "name": "count",
         "rawType": "float64",
         "type": "float"
        },
        {
         "name": "mean",
         "rawType": "float64",
         "type": "float"
        },
        {
         "name": "std",
         "rawType": "float64",
         "type": "float"
        },
        {
         "name": "min",
         "rawType": "float64",
         "type": "float"
        },
        {
         "name": "25%",
         "rawType": "float64",
         "type": "float"
        },
        {
         "name": "50%",
         "rawType": "float64",
         "type": "float"
        },
        {
         "name": "75%",
         "rawType": "float64",
         "type": "float"
        },
        {
         "name": "max",
         "rawType": "float64",
         "type": "float"
        }
       ],
       "conversionMethod": "pd.DataFrame",
       "ref": "558c193e-ef43-4c4f-94b2-eb37c76d6310",
       "rows": [
        [
         "0",
         "District of Columbia",
         "1.0",
         "60.0",
         null,
         "60.0",
         "60.0",
         "60.0",
         "60.0",
         "60.0"
        ],
        [
         "1",
         "New Jersey",
         "21.0",
         "23.21428571428571",
         "13.969655891047772",
         "4.1",
         "11.4",
         "19.0",
         "33.3",
         "48.1"
        ],
        [
         "2",
         "New York",
         "62.0",
         "17.06451612903226",
         "15.881694760023418",
         "0.0",
         "6.4750000000000005",
         "13.65",
         "22.325",
         "87.8"
        ],
        [
         "3",
         "Puerto Rico",
         "78.0",
         "13.406410256410258",
         "18.67491087093312",
         "0.0",
         "0.0",
         "7.2",
         "20.0",
         "84.2"
        ],
        [
         "4",
         "Texas",
         "254.0",
         "6.9346456692913385",
         "10.502564173656813",
         "0.0",
         "0.0",
         "0.0",
         "12.8",
         "59.1"
        ]
       ],
       "shape": {
        "columns": 9,
        "rows": 5
       }
      },
      "text/html": [
       "<div>\n",
       "<style scoped>\n",
       "    .dataframe tbody tr th:only-of-type {\n",
       "        vertical-align: middle;\n",
       "    }\n",
       "\n",
       "    .dataframe tbody tr th {\n",
       "        vertical-align: top;\n",
       "    }\n",
       "\n",
       "    .dataframe thead th {\n",
       "        text-align: right;\n",
       "    }\n",
       "</style>\n",
       "<table border=\"1\" class=\"dataframe\">\n",
       "  <thead>\n",
       "    <tr style=\"text-align: right;\">\n",
       "      <th></th>\n",
       "      <th>State</th>\n",
       "      <th>count</th>\n",
       "      <th>mean</th>\n",
       "      <th>std</th>\n",
       "      <th>min</th>\n",
       "      <th>25%</th>\n",
       "      <th>50%</th>\n",
       "      <th>75%</th>\n",
       "      <th>max</th>\n",
       "    </tr>\n",
       "  </thead>\n",
       "  <tbody>\n",
       "    <tr>\n",
       "      <th>0</th>\n",
       "      <td>District of Columbia</td>\n",
       "      <td>1.0</td>\n",
       "      <td>60.000000</td>\n",
       "      <td>NaN</td>\n",
       "      <td>60.0</td>\n",
       "      <td>60.000</td>\n",
       "      <td>60.00</td>\n",
       "      <td>60.000</td>\n",
       "      <td>60.0</td>\n",
       "    </tr>\n",
       "    <tr>\n",
       "      <th>1</th>\n",
       "      <td>New Jersey</td>\n",
       "      <td>21.0</td>\n",
       "      <td>23.214286</td>\n",
       "      <td>13.969656</td>\n",
       "      <td>4.1</td>\n",
       "      <td>11.400</td>\n",
       "      <td>19.00</td>\n",
       "      <td>33.300</td>\n",
       "      <td>48.1</td>\n",
       "    </tr>\n",
       "    <tr>\n",
       "      <th>2</th>\n",
       "      <td>New York</td>\n",
       "      <td>62.0</td>\n",
       "      <td>17.064516</td>\n",
       "      <td>15.881695</td>\n",
       "      <td>0.0</td>\n",
       "      <td>6.475</td>\n",
       "      <td>13.65</td>\n",
       "      <td>22.325</td>\n",
       "      <td>87.8</td>\n",
       "    </tr>\n",
       "    <tr>\n",
       "      <th>3</th>\n",
       "      <td>Puerto Rico</td>\n",
       "      <td>78.0</td>\n",
       "      <td>13.406410</td>\n",
       "      <td>18.674911</td>\n",
       "      <td>0.0</td>\n",
       "      <td>0.000</td>\n",
       "      <td>7.20</td>\n",
       "      <td>20.000</td>\n",
       "      <td>84.2</td>\n",
       "    </tr>\n",
       "    <tr>\n",
       "      <th>4</th>\n",
       "      <td>Texas</td>\n",
       "      <td>254.0</td>\n",
       "      <td>6.934646</td>\n",
       "      <td>10.502564</td>\n",
       "      <td>0.0</td>\n",
       "      <td>0.000</td>\n",
       "      <td>0.00</td>\n",
       "      <td>12.800</td>\n",
       "      <td>59.1</td>\n",
       "    </tr>\n",
       "  </tbody>\n",
       "</table>\n",
       "</div>"
      ],
      "text/plain": [
       "                  State  count       mean        std   min     25%    50%  \\\n",
       "0  District of Columbia    1.0  60.000000        NaN  60.0  60.000  60.00   \n",
       "1            New Jersey   21.0  23.214286  13.969656   4.1  11.400  19.00   \n",
       "2              New York   62.0  17.064516  15.881695   0.0   6.475  13.65   \n",
       "3           Puerto Rico   78.0  13.406410  18.674911   0.0   0.000   7.20   \n",
       "4                 Texas  254.0   6.934646  10.502564   0.0   0.000   0.00   \n",
       "\n",
       "      75%   max  \n",
       "0  60.000  60.0  \n",
       "1  33.300  48.1  \n",
       "2  22.325  87.8  \n",
       "3  20.000  84.2  \n",
       "4  12.800  59.1  "
      ]
     },
     "execution_count": 18,
     "metadata": {},
     "output_type": "execute_result"
    }
   ],
   "source": [
    "#calculate this separated by state\n",
    "df_grouped_obgyn = df.groupby('State')['OB-GYN Provider Rate (per 100,000)'].describe().reset_index()\n",
    "df_grouped_obgyn.columns = ['State', 'count', 'mean', 'std', 'min', '25%', '50%', '75%', 'max']\n",
    "df_grouped_obgyn = df_grouped_obgyn.sort_values(by='mean', ascending=False)\n",
    "df_grouped_obgyn"
   ]
  },
  {
   "cell_type": "code",
   "execution_count": 20,
   "id": "a7dbce53",
   "metadata": {},
   "outputs": [
    {
     "data": {
      "text/plain": [
       "count      338.000000\n",
       "mean       178.392604\n",
       "std       1114.143732\n",
       "min          0.000000\n",
       "25%          1.500000\n",
       "50%          6.900000\n",
       "75%         28.075000\n",
       "max      16127.700000\n",
       "Name: Population Density - Women 15-44 Years of Age, dtype: float64"
      ]
     },
     "execution_count": 20,
     "metadata": {},
     "output_type": "execute_result"
    }
   ],
   "source": [
    "#convert population density to numeric and get summary statistics\n",
    "df['Population Density - Women 15-44 Years of Age'] = pd.to_numeric(df['Population Density - Women 15-44 Years of Age'], errors='coerce')\n",
    "df['Population Density - Women 15-44 Years of Age'].describe()"
   ]
  },
  {
   "cell_type": "code",
   "execution_count": 21,
   "id": "0b91b8d9",
   "metadata": {},
   "outputs": [
    {
     "data": {
      "application/vnd.microsoft.datawrangler.viewer.v0+json": {
       "columns": [
        {
         "name": "index",
         "rawType": "int64",
         "type": "integer"
        },
        {
         "name": "State",
         "rawType": "object",
         "type": "string"
        },
        {
         "name": "Infant Mortality Rate (per 1,000) 2020-2022",
         "rawType": "object",
         "type": "string"
        },
        {
         "name": "Hospitals with Obstetric Care (#)",
         "rawType": "float64",
         "type": "float"
        },
        {
         "name": "Correlation",
         "rawType": "float64",
         "type": "float"
        }
       ],
       "conversionMethod": "pd.DataFrame",
       "ref": "aec03a67-ef81-450a-883e-e661571a125d",
       "rows": [
        [
         "3",
         "New Jersey",
         "Hospitals with Obstetric Care (#)",
         "-0.2949290799114212",
         "1.0"
        ],
        [
         "5",
         "New York",
         "Hospitals with Obstetric Care (#)",
         "-0.4219148463147321",
         "1.0"
        ],
        [
         "7",
         "Puerto Rico",
         "Hospitals with Obstetric Care (#)",
         "0.017047037138992815",
         "1.0"
        ],
        [
         "9",
         "Texas",
         "Hospitals with Obstetric Care (#)",
         "-0.07287749924056054",
         "1.0"
        ],
        [
         "1",
         "District of Columbia",
         "Hospitals with Obstetric Care (#)",
         null,
         null
        ]
       ],
       "shape": {
        "columns": 4,
        "rows": 5
       }
      },
      "text/html": [
       "<div>\n",
       "<style scoped>\n",
       "    .dataframe tbody tr th:only-of-type {\n",
       "        vertical-align: middle;\n",
       "    }\n",
       "\n",
       "    .dataframe tbody tr th {\n",
       "        vertical-align: top;\n",
       "    }\n",
       "\n",
       "    .dataframe thead th {\n",
       "        text-align: right;\n",
       "    }\n",
       "</style>\n",
       "<table border=\"1\" class=\"dataframe\">\n",
       "  <thead>\n",
       "    <tr style=\"text-align: right;\">\n",
       "      <th></th>\n",
       "      <th>State</th>\n",
       "      <th>Infant Mortality Rate (per 1,000) 2020-2022</th>\n",
       "      <th>Hospitals with Obstetric Care (#)</th>\n",
       "      <th>Correlation</th>\n",
       "    </tr>\n",
       "  </thead>\n",
       "  <tbody>\n",
       "    <tr>\n",
       "      <th>3</th>\n",
       "      <td>New Jersey</td>\n",
       "      <td>Hospitals with Obstetric Care (#)</td>\n",
       "      <td>-0.294929</td>\n",
       "      <td>1.0</td>\n",
       "    </tr>\n",
       "    <tr>\n",
       "      <th>5</th>\n",
       "      <td>New York</td>\n",
       "      <td>Hospitals with Obstetric Care (#)</td>\n",
       "      <td>-0.421915</td>\n",
       "      <td>1.0</td>\n",
       "    </tr>\n",
       "    <tr>\n",
       "      <th>7</th>\n",
       "      <td>Puerto Rico</td>\n",
       "      <td>Hospitals with Obstetric Care (#)</td>\n",
       "      <td>0.017047</td>\n",
       "      <td>1.0</td>\n",
       "    </tr>\n",
       "    <tr>\n",
       "      <th>9</th>\n",
       "      <td>Texas</td>\n",
       "      <td>Hospitals with Obstetric Care (#)</td>\n",
       "      <td>-0.072877</td>\n",
       "      <td>1.0</td>\n",
       "    </tr>\n",
       "    <tr>\n",
       "      <th>1</th>\n",
       "      <td>District of Columbia</td>\n",
       "      <td>Hospitals with Obstetric Care (#)</td>\n",
       "      <td>NaN</td>\n",
       "      <td>NaN</td>\n",
       "    </tr>\n",
       "  </tbody>\n",
       "</table>\n",
       "</div>"
      ],
      "text/plain": [
       "                  State Infant Mortality Rate (per 1,000) 2020-2022  \\\n",
       "3            New Jersey           Hospitals with Obstetric Care (#)   \n",
       "5              New York           Hospitals with Obstetric Care (#)   \n",
       "7           Puerto Rico           Hospitals with Obstetric Care (#)   \n",
       "9                 Texas           Hospitals with Obstetric Care (#)   \n",
       "1  District of Columbia           Hospitals with Obstetric Care (#)   \n",
       "\n",
       "   Hospitals with Obstetric Care (#)  Correlation  \n",
       "3                          -0.294929          1.0  \n",
       "5                          -0.421915          1.0  \n",
       "7                           0.017047          1.0  \n",
       "9                          -0.072877          1.0  \n",
       "1                                NaN          NaN  "
      ]
     },
     "execution_count": 21,
     "metadata": {},
     "output_type": "execute_result"
    }
   ],
   "source": [
    "#can you create a correlation between the infant mortality rate and the number of hospitals with obstetric care seperated by state\n",
    "df_grouped_corr = df.groupby('State')[['Infant Mortality Rate (per 1,000) 2020-2022', 'Hospitals with Obstetric Care (#)']].corr().reset_index()\n",
    "df_grouped_corr.columns = ['State', 'Infant Mortality Rate (per 1,000) 2020-2022', 'Hospitals with Obstetric Care (#)', 'Correlation']\n",
    "df_grouped_corr = df_grouped_corr[df_grouped_corr['Infant Mortality Rate (per 1,000) 2020-2022'] != 'Infant Mortality Rate (per 1,000) 2020-2022']\n",
    "df_grouped_corr = df_grouped_corr[df_grouped_corr['Hospitals with Obstetric Care (#)'] != 'Hospitals with Obstetric Care (#)']\n",
    "df_grouped_corr['Correlation'] = df_grouped_corr['Correlation'].astype(float)\n",
    "df_grouped_corr = df_grouped_corr.sort_values(by='Correlation', ascending=False)\n",
    "df_grouped_corr"
   ]
  },
  {
   "cell_type": "code",
   "execution_count": null,
   "id": "7ee5876f",
   "metadata": {},
   "outputs": [],
   "source": []
  }
 ],
 "metadata": {
  "kernelspec": {
   "display_name": ".venv",
   "language": "python",
   "name": "python3"
  },
  "language_info": {
   "codemirror_mode": {
    "name": "ipython",
    "version": 3
   },
   "file_extension": ".py",
   "mimetype": "text/x-python",
   "name": "python",
   "nbconvert_exporter": "python",
   "pygments_lexer": "ipython3",
   "version": "3.12.0"
  }
 },
 "nbformat": 4,
 "nbformat_minor": 5
}
