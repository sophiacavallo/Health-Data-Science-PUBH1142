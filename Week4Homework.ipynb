{
 "cells": [
  {
   "cell_type": "markdown",
   "metadata": {},
   "source": [
    "# **Chapter 4 | Spreadsheets and Databases**\n",
    "---\n",
    "## *Questions*"
   ]
  },
  {
   "cell_type": "markdown",
   "metadata": {},
   "source": [
    "1. A spreadsheet’s main purpose is to organize data into rows and columns and allow calculations,  \n",
    "chart creation, and analyzation. Databases are structured collections of data that allow for efficient storage,  \n",
    "retrieval, and management of large amounts of data. The main purpose is complex queries, multiple  \n",
    "users, and ensuring data integrity. \n",
    "\n",
    "2. Advantages of using a spreadsheet for health data management include ease of use and easy  \n",
    "manipulation. A disadvantage of spreadsheets for health data management is speed once large amounts  \n",
    "of data are involved and security concerns. \n",
    "\n",
    "3. Advantages of using databases for heath data includes security, integrity of the data, and ability  \n",
    "to handle large amounts of data. Disadvantages include the complexity and cost of database systems, as trainings  \n",
    "for users are typically necessary. \n",
    "\n",
    "4. Examples of spreadsheet tasks include budgeting, basic data analysis, small dataset analysis, and creation  \n",
    "of graphics.\n",
    "\n",
    "5. Examples of database tasks include storing patients records from a healthcare system, data extraction   \n",
    "across datasets, and creating comprehensive reports. \n",
    "\n",
    "6. Using both a spreadsheet and a database, you can perform data entry and storage, report generation, tracking  \n",
    "schedules, and data analysis. \n",
    "\n",
    "7. Neither spreadsheets nor databases can handle real-time data processing and analysis, writing papers, or qualitative analysis. \n",
    "\n",
    "8. A spreadsheet can be utilized for speedy creation of charts and analysis.\n",
    "\n",
    "9. A database can be used by multiple users across different locations without an issue of overall  \n",
    "performance or security, and large queries can be run.\n",
    "\n",
    "10. Repeat question. "
   ]
  }
 ],
 "metadata": {
  "kernelspec": {
   "display_name": ".venv",
   "language": "python",
   "name": "python3"
  },
  "language_info": {
   "name": "python",
   "version": "3.12.0"
  }
 },
 "nbformat": 4,
 "nbformat_minor": 2
}
