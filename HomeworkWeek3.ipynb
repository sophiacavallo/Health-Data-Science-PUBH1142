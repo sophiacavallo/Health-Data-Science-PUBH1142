{
 "cells": [
  {
   "cell_type": "markdown",
   "metadata": {},
   "source": [
    "# Week 3 Quiz Questions"
   ]
  },
  {
   "cell_type": "markdown",
   "metadata": {},
   "source": [
    "*1. What is the primary goal of data anonymization?*  \n",
    "The goal of data anonymization is to keep the identities of individuals hidden. "
   ]
  },
  {
   "cell_type": "markdown",
   "metadata": {},
   "source": [
    "*2. What is the Havasupai Tribe case about?*  \n",
    "The Havasupai Tribe was contacted by Arizona State University due to the high prevalence of Type 2 diabetes within the tribe, to be involved in a study regarding Type 2 diabetes. However, collected blood samples were used by ASU to do further research than the tribe was made aware of or gave consent to. This included genetic marker testing, which the Havasupai Tribe later acknowledged was a breach in their tribe’s beliefs. The Havasupai tribe sued ASU and received $700,000 and a return of the blood samples to the tribe."
   ]
  },
  {
   "cell_type": "markdown",
   "metadata": {},
   "source": [
    "*3. What was the largest health data breach in history?*  \n",
    "The largest health data breach in history involved Anthem Inc. in 2015, where 78.8 million individual’s personal information was stolen in a cyberattack. There was no medical information included in this breach of data, but other personal information was stolen. "
   ]
  },
  {
   "cell_type": "markdown",
   "metadata": {},
   "source": [
    "*4. What is the pulse oximeter controversy about?*  \n",
    "The controversy of pulse oximeters surrounds their widespread use accompanied by increasing reports of racial discrepancies between accuracy of detecting hypoxemia in Black patients versus White patients. When calibrating these pulse oximeters, the majority of data were from light-skinned patients, thus the machines were ill-equipped to correctly read Black individuals blood oxygen levels.  "
   ]
  },
  {
   "cell_type": "markdown",
   "metadata": {},
   "source": [
    "*5. What is the role of an Institutional Review Board (IRB) in research?*  \n",
    "An IRB ensures that a research design will be conducted ethically and is meant to protect both the health and rights of participants to be recruited for the study."
   ]
  },
  {
   "cell_type": "markdown",
   "metadata": {},
   "source": [
    "*6. What is the difference between spreadsheet software and database software for health data management?*  \n",
    "A major difference between spreadsheet software and database software for health data management is the minimal security of spreadsheet softwares, especially compared to database softwares. These programs may have data encryptions to increase security."
   ]
  },
  {
   "cell_type": "markdown",
   "metadata": {},
   "source": [
    "*7. What is a conflict of interest in public health research?*  \n",
    "A conflict of interest is when a researcher may have a secondary interest beyond the research that may result in bias of design, findings, or reporting. "
   ]
  },
  {
   "cell_type": "markdown",
   "metadata": {},
   "source": [
    "*8. What is informed consent in the context of health data collection?*  \n",
    "Informed consent is the requirement of not just the patients signature agreeing to a study, but an understanding and enough information to make the decision to participate or not. Informed consent must include information regarding the purpose of the study, the purpose of the data collection, how this data will be used, risks and benefits, and the ability of the participant to end their participation at any point. "
   ]
  },
  {
   "cell_type": "markdown",
   "metadata": {},
   "source": [
    "*9. What is data masking in the context of de-identification of health data?*  \n",
    "Data masking can involve replacing patient names and other identifiable information with random characters or no data."
   ]
  },
  {
   "cell_type": "markdown",
   "metadata": {},
   "source": [
    "*10. What is the principle of anonymity in the context of de-identification of health data?*  \n",
    "De-identification of health data takes away the information that would establish a person’s identity. Without those markers the principle of anonymity for participants is upheld. "
   ]
  },
  {
   "cell_type": "markdown",
   "metadata": {},
   "source": [
    "*11. What is the main concern about conflicts of interest in public health research?*  \n",
    "The main concern about conflicts of interest in public health research is a compromise of integrity. "
   ]
  },
  {
   "cell_type": "markdown",
   "metadata": {},
   "source": [
    "*12. What is the first step in managing conflicts of interest in public health research?*  \n",
    "The first step is transparency, including disclosure of any of the researcher’s conflicts of interest, with updates throughout the research timeline. "
   ]
  },
  {
   "cell_type": "markdown",
   "metadata": {},
   "source": [
    "*13.What is the role of independent oversight in managing conflicts of interest in public health research?*  \n",
    "\n",
    "Independent oversight can provide a third party perspective when reviewing research proposals to ensure less biased decision making. "
   ]
  },
  {
   "cell_type": "markdown",
   "metadata": {},
   "source": [
    "*14. What is one strategy for mitigating conflicts of interest in public health research?*  \n",
    "Management plans involving thorough oversight during the research process can mitigate conflicts of interest. "
   ]
  }
 ],
 "metadata": {
  "kernelspec": {
   "display_name": ".venv",
   "language": "python",
   "name": "python3"
  },
  "language_info": {
   "name": "python",
   "version": "3.12.0"
  }
 },
 "nbformat": 4,
 "nbformat_minor": 2
}
